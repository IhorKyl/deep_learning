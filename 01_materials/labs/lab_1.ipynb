{
 "cells": [
  {
   "cell_type": "markdown",
   "metadata": {},
   "source": [
    "# Training Neural Networks with Keras\n",
    "\n",
    "Welcome to the first practical session of the course! In this session, we will learn how to train neural networks with Keras. We will start with a simple example of a feedforward neural network for classification and then we will study the impact of the initialization of the weights on the convergence of the training algorithm.\n",
    "\n",
    "Keras is a high-level neural network API, built on top of TensorFlow 2.0. It provides a user-friendly interface to build, train and deploy deep learning models. Keras is designed to be modular, fast and easy to use.\n",
    "\n",
    "Throughout this course, we will focus on using Keras and TensorFlow for building and training neural networks. However, there are other popular deep learning frameworks such as PyTorch, MXNet, CNTK, etc. that you can also use to build and train neural networks.\n",
    "\n",
    "In order to use our code on Google Colab, we will need to ensure that any required packages are installed. We will use the following packages in this session:\n",
    "\n",
    "- `tensorflow`: an open-source library for numerical computation and large-scale machine learning.\n",
    "- `matplotlib`: a plotting library for the Python programming language and its numerical mathematics extension NumPy.\n",
    "- `numpy`: a library for scientific computing in Python.\n",
    "- `scikit-learn`: a machine learning library for the Python programming language.\n",
    "- `pandas`: a library providing high-performance, easy-to-use data structures and data analysis tools for the Python programming language.\n",
    "\n",
    "The following cell will check if the packages are installed, and if not, it will install them. Students familiar with how pip works might note that it already checks this before installing! The reason for this code (which will also appear in subsequent notebooks) is to speed up execution if you re-run the entire notebook - it will skip the installation step if the packages are already installed."
   ]
  },
  {
   "cell_type": "markdown",
   "metadata": {
    "collapsed": false
   },
   "source": [
    "With the packages installed, we can now get started on the practical session!\n",
    "\n",
    "Today, we will be working with the famous MNIST dataset. MNIST (Modified National Institute of Standards and Technology) is a database of low resolution images of handwritten digits. The history here is interesting - the dataset was originally created in the 1980s, when researchers from the aforementioned institute collected samples from American Census Bureau employees and high school students. The dataset was then modified in the 1990s (hence the M in MNIST), and has since become a popular benchmark for machine learning algorithms. \n",
    "\n",
    "The dataset contains images, each of which is a 28x28 grayscale image of a handwritten digit. The goal is to classify each image into one of the 10 possible classes (0-9).\n",
    "\n",
    "![MNIST](https://upload.wikimedia.org/wikipedia/commons/2/27/MnistExamples.png)\n",
    "\n",
    "The Scikit-Learn library provides a convenient function to download and load the MNIST dataset. The following cell will download the dataset. Then we will take a look at the shape of the data."
   ]
  },
  {
   "cell_type": "code",
   "execution_count": 96,
   "metadata": {},
   "outputs": [],
   "source": [
    "import matplotlib.pyplot as plt\n",
    "import numpy as np\n",
    "\n",
    "from sklearn.datasets import load_digits\n",
    "\n",
    "digits = load_digits()"
   ]
  },
  {
   "cell_type": "code",
   "execution_count": 97,
   "metadata": {},
   "outputs": [
    {
     "data": {
      "text/plain": [
       "(1797, 8, 8)"
      ]
     },
     "execution_count": 97,
     "metadata": {},
     "output_type": "execute_result"
    }
   ],
   "source": [
    "digits.images.shape"
   ]
  },
  {
   "cell_type": "code",
   "execution_count": 98,
   "metadata": {},
   "outputs": [
    {
     "data": {
      "text/plain": [
       "array([[[ 0.,  0.,  5., ...,  1.,  0.,  0.],\n",
       "        [ 0.,  0., 13., ..., 15.,  5.,  0.],\n",
       "        [ 0.,  3., 15., ..., 11.,  8.,  0.],\n",
       "        ...,\n",
       "        [ 0.,  4., 11., ..., 12.,  7.,  0.],\n",
       "        [ 0.,  2., 14., ..., 12.,  0.,  0.],\n",
       "        [ 0.,  0.,  6., ...,  0.,  0.,  0.]],\n",
       "\n",
       "       [[ 0.,  0.,  0., ...,  5.,  0.,  0.],\n",
       "        [ 0.,  0.,  0., ...,  9.,  0.,  0.],\n",
       "        [ 0.,  0.,  3., ...,  6.,  0.,  0.],\n",
       "        ...,\n",
       "        [ 0.,  0.,  1., ...,  6.,  0.,  0.],\n",
       "        [ 0.,  0.,  1., ...,  6.,  0.,  0.],\n",
       "        [ 0.,  0.,  0., ..., 10.,  0.,  0.]],\n",
       "\n",
       "       [[ 0.,  0.,  0., ..., 12.,  0.,  0.],\n",
       "        [ 0.,  0.,  3., ..., 14.,  0.,  0.],\n",
       "        [ 0.,  0.,  8., ..., 16.,  0.,  0.],\n",
       "        ...,\n",
       "        [ 0.,  9., 16., ...,  0.,  0.,  0.],\n",
       "        [ 0.,  3., 13., ..., 11.,  5.,  0.],\n",
       "        [ 0.,  0.,  0., ..., 16.,  9.,  0.]],\n",
       "\n",
       "       ...,\n",
       "\n",
       "       [[ 0.,  0.,  1., ...,  1.,  0.,  0.],\n",
       "        [ 0.,  0., 13., ...,  2.,  1.,  0.],\n",
       "        [ 0.,  0., 16., ..., 16.,  5.,  0.],\n",
       "        ...,\n",
       "        [ 0.,  0., 16., ..., 15.,  0.,  0.],\n",
       "        [ 0.,  0., 15., ..., 16.,  0.,  0.],\n",
       "        [ 0.,  0.,  2., ...,  6.,  0.,  0.]],\n",
       "\n",
       "       [[ 0.,  0.,  2., ...,  0.,  0.,  0.],\n",
       "        [ 0.,  0., 14., ..., 15.,  1.,  0.],\n",
       "        [ 0.,  4., 16., ..., 16.,  7.,  0.],\n",
       "        ...,\n",
       "        [ 0.,  0.,  0., ..., 16.,  2.,  0.],\n",
       "        [ 0.,  0.,  4., ..., 16.,  2.,  0.],\n",
       "        [ 0.,  0.,  5., ..., 12.,  0.,  0.]],\n",
       "\n",
       "       [[ 0.,  0., 10., ...,  1.,  0.,  0.],\n",
       "        [ 0.,  2., 16., ...,  1.,  0.,  0.],\n",
       "        [ 0.,  0., 15., ..., 15.,  0.,  0.],\n",
       "        ...,\n",
       "        [ 0.,  4., 16., ..., 16.,  6.,  0.],\n",
       "        [ 0.,  8., 16., ..., 16.,  8.,  0.],\n",
       "        [ 0.,  1.,  8., ..., 12.,  1.,  0.]]])"
      ]
     },
     "execution_count": 98,
     "metadata": {},
     "output_type": "execute_result"
    }
   ],
   "source": [
    "digits.images"
   ]
  },
  {
   "cell_type": "markdown",
   "metadata": {
    "collapsed": false
   },
   "source": [
    "This means that we have 1797 images, each of which is a 8x8 image. For basic image processing, we will need to flatten the images into a 1D array. In this case, Scikit-Learn has already provided the data in this format too:"
   ]
  },
  {
   "cell_type": "code",
   "execution_count": 99,
   "metadata": {},
   "outputs": [
    {
     "data": {
      "text/plain": [
       "(1797, 64)"
      ]
     },
     "execution_count": 99,
     "metadata": {},
     "output_type": "execute_result"
    }
   ],
   "source": [
    "digits.data.shape"
   ]
  },
  {
   "cell_type": "code",
   "execution_count": 100,
   "metadata": {},
   "outputs": [
    {
     "data": {
      "text/plain": [
       "array([[ 0.,  0.,  5., ...,  0.,  0.,  0.],\n",
       "       [ 0.,  0.,  0., ..., 10.,  0.,  0.],\n",
       "       [ 0.,  0.,  0., ..., 16.,  9.,  0.],\n",
       "       ...,\n",
       "       [ 0.,  0.,  1., ...,  6.,  0.,  0.],\n",
       "       [ 0.,  0.,  2., ..., 12.,  0.,  0.],\n",
       "       [ 0.,  0., 10., ..., 12.,  1.,  0.]])"
      ]
     },
     "execution_count": 100,
     "metadata": {},
     "output_type": "execute_result"
    }
   ],
   "source": [
    "digits.data"
   ]
  },
  {
   "cell_type": "markdown",
   "metadata": {
    "collapsed": false
   },
   "source": [
    "For each image, we also have the corresponding label (or target, or class) in `digits.target`:"
   ]
  },
  {
   "cell_type": "code",
   "execution_count": 101,
   "metadata": {},
   "outputs": [
    {
     "data": {
      "text/plain": [
       "(1797,)"
      ]
     },
     "execution_count": 101,
     "metadata": {},
     "output_type": "execute_result"
    }
   ],
   "source": [
    "digits.target.shape"
   ]
  },
  {
   "cell_type": "markdown",
   "metadata": {
    "collapsed": false
   },
   "source": [
    "We can take a look at some random images from the dataset. The following cell will select 9 random images and plot them in a 3x3 grid (meaning that you can rerun the cell to see different images)."
   ]
  },
  {
   "cell_type": "code",
   "execution_count": 102,
   "metadata": {},
   "outputs": [
    {
     "data": {
      "image/png": "[encoded data removed]",
      "text/plain": [
       "<Figure size 1000x1000 with 12 Axes>"
      ]
     },
     "metadata": {},
     "output_type": "display_data"
    }
   ],
   "source": [
    "# Selecting 9 random indices\n",
    "random_indices = np.random.choice(len(digits.images), 12, replace=False)\n",
    "\n",
    "# Creating a 3x3 grid plot\n",
    "fig, axes = plt.subplots(4, 3, figsize=(10, 10))\n",
    "\n",
    "for i, ax in enumerate(axes.flat):\n",
    "    ax.imshow(digits.images[random_indices[i]], cmap=plt.cm.gray_r, interpolation='nearest')\n",
    "    ax.set_title(f\"Label: {digits.target[random_indices[i]]}\")\n",
    "\n",
    "    # Removing axis labels\n",
    "    ax.set_xticks([])\n",
    "    ax.set_yticks([])\n",
    "\n",
    "plt.show()"
   ]
  },
  {
   "cell_type": "markdown",
   "metadata": {
    "collapsed": false
   },
   "source": [
    "As you can see, these images are very low resolution. This is because they were originally scanned from paper forms, and then scaled down to 8x8 pixels. This is a common problem in machine learning - the quality of the data is often a limiting factor in the performance of the model. In this case, the low resolution of the images makes it difficult to distinguish between some digits, even for humans. For example, the following images are all labelled as 9, but they look very different:"
   ]
  },
  {
   "cell_type": "code",
   "execution_count": 103,
   "metadata": {
    "collapsed": false
   },
   "outputs": [
    {
     "data": {
      "image/png": "[encoded data removed]",
      "text/plain": [
       "<Figure size 600x600 with 9 Axes>"
      ]
     },
     "metadata": {},
     "output_type": "display_data"
    }
   ],
   "source": [
    "# Selecting 9 random indices of images labelled as 9\n",
    "random_indices = np.random.choice(np.where(digits.target == 9)[0], 9, replace=False)\n",
    "\n",
    "# Creating a 3x3 grid plot\n",
    "fig, axes = plt.subplots(3, 3, figsize=(6, 6))\n",
    "\n",
    "for i, ax in enumerate(axes.flat):\n",
    "    ax.imshow(digits.images[random_indices[i]], cmap=plt.cm.gray_r, interpolation='nearest')\n",
    "    ax.set_title(f\"Label: {digits.target[random_indices[i]]}\")\n",
    "\n",
    "    # Removing axis labels\n",
    "    ax.set_xticks([])\n",
    "    ax.set_yticks([])\n",
    "    \n",
    "plt.show()"
   ]
  },
  {
   "cell_type": "markdown",
   "metadata": {
    "collapsed": false
   },
   "source": [
    "While we are plotting the samples as images, remember that our model is only going to see a 1D array of numbers. "
   ]
  },
  {
   "cell_type": "markdown",
   "metadata": {},
   "source": [
    "## Train / Test Split\n",
    "\n",
    "In order to understand how well our model performs on _new_ data, we need to split our dataset into a training set and a test set. The training set will be used to train the model, and the test set will be used to evaluate the performance of the model.\n",
    "\n",
    "Let's keep some held-out data to be able to measure the generalization performance of our model. "
   ]
  },
  {
   "cell_type": "code",
   "execution_count": 104,
   "metadata": {},
   "outputs": [],
   "source": [
    "from sklearn.model_selection import train_test_split\n",
    "\n",
    "\n",
    "X_train, X_test, y_train, y_test = train_test_split(\n",
    "    digits.data, \n",
    "    digits.target,\n",
    "    test_size=0.2, # 20% of the data is used for testing\n",
    "    random_state=42 # Providing a value here means getting the same \"random\" split every time\n",
    ")"
   ]
  },
  {
   "cell_type": "markdown",
   "metadata": {
    "collapsed": false
   },
   "source": [
    "Let's confirm that the data has been split correctly:"
   ]
  },
  {
   "cell_type": "code",
   "execution_count": 105,
   "metadata": {
    "collapsed": false
   },
   "outputs": [
    {
     "name": "stdout",
     "output_type": "stream",
     "text": [
      "X_train shape: (1437, 64)\n",
      "y_train shape: (1437,)\n",
      "X_test shape: (360, 64)\n",
      "y_test shape: (360,)\n"
     ]
    }
   ],
   "source": [
    "print(f'X_train shape: {X_train.shape}')\n",
    "print(f'y_train shape: {y_train.shape}')\n",
    "print(f'X_test shape: {X_test.shape}')\n",
    "print(f'y_test shape: {y_test.shape}')"
   ]
  },
  {
   "cell_type": "markdown",
   "metadata": {
    "collapsed": false
   },
   "source": [
    "This is what we expected to see. It's always good to check as you go, to make sure that you haven't made a mistake somewhere - this is something that working in a notebook like this makes it easy to do."
   ]
  },
  {
   "cell_type": "markdown",
   "metadata": {},
   "source": [
    "## Preprocessing of the Target Data\n",
    "\n",
    "The labels that we have are integers between 0 and 9. However, we want to train a neural network to classify the images into one of 10 classes. It can be a little counter-intuitive because we are dealing with numbers, but our classes are not ordinal.\n",
    "\n",
    "What do we mean by that? Let's imagine we were trying to predict the height of a building (separated into classes) from images. If a given building was actually 10m tall, and our model predicted 9m, we would consider that to be a better prediction than if it predicted 1m. This is because the classes are ordinal - there is meaning in the difference between the classes.\n",
    "\n",
    "In our case, even though we are dealing with numbers, the classes are not ordinal. If a given image is actually a 9, and our model predicts 8, we would consider that to be just as bad as if it predicted 1. This is because the classes are not ordered, and the difference between the classes is not meaningful.\n",
    "\n",
    "Because of this, we need to convert our labels from an integer value into a one-hot encoded vector. This means that each label will be represented as a vector of length 10, with a 1 in the position corresponding to the class, and 0s everywhere else. For example, the label 9 would be represented as `[0, 0, 0, 0, 0, 0, 0, 0, 0, 1]`. This is a common way of representing categorical data in machine learning. By doing this, we ensure that our model is taught the correct relationship between the classes."
   ]
  },
  {
   "cell_type": "code",
   "execution_count": 106,
   "metadata": {},
   "outputs": [
    {
     "name": "stdout",
     "output_type": "stream",
     "text": [
      "Before one-hot encoding: 6\n",
      "After one-hot encoding: [0. 0. 0. 0. 0. 0. 1. 0. 0. 0.]\n"
     ]
    }
   ],
   "source": [
    "from tensorflow.keras.utils import to_categorical\n",
    "\n",
    "print(f'Before one-hot encoding: {y_train[0]}')\n",
    "y_train = to_categorical(y_train, num_classes=10)\n",
    "y_test = to_categorical(y_test, num_classes=10)\n",
    "print(f'After one-hot encoding: {y_train[0]}')"
   ]
  },
  {
   "cell_type": "markdown",
   "metadata": {},
   "source": [
    "## Feed Forward Neural Networks with Keras\n",
    "\n",
    "Now that we have prepared our data, it's time to build a simple neural network! In this section, we will use the Keras API to build a simple feed forward neural network. We will then train the model on the MNIST dataset, and evaluate its performance on the test set.\n",
    "\n",
    "In most modern deep learning frameworks, the process of building a model can be broken down into a few steps:\n",
    "\n",
    "- Define the model architecture: this is where we define the layers of the model, and how they are connected to each other.\n",
    "- Compile the model: this is where we define the loss function, the optimizer, and the metrics that we want to use to evaluate the model.\n",
    "- Train the model: this is where we train the model on the training data.\n",
    "\n",
    "Let's start with defining the model architecture. There are two ways to do this in Keras - the Sequential API and the Functional API. The Sequential API is the simplest way to build a model, and is suitable for most use cases. The Functional API is more flexible, and allows you to build more complex models. We will start with the Sequential API, and then we will look at the Functional API later in the course.\n",
    "\n",
    "Our simple neural network will be \"fully-connected\". This means that each neuron in a given layer is connected to every neuron in the next layer. This is also known as a \"dense\" layer. We will use the `Dense` class from Keras to define our layers."
   ]
  },
  {
   "cell_type": "code",
   "execution_count": 107,
   "metadata": {
    "collapsed": false
   },
   "outputs": [
    {
     "name": "stdout",
     "output_type": "stream",
     "text": [
      "Model: \"sequential_6\"\n",
      "_________________________________________________________________\n",
      " Layer (type)                Output Shape              Param #   \n",
      "=================================================================\n",
      " dense_18 (Dense)            (None, 64)                4160      \n",
      "                                                                 \n",
      " dense_19 (Dense)            (None, 64)                4160      \n",
      "                                                                 \n",
      " dense_20 (Dense)            (None, 10)                650       \n",
      "                                                                 \n",
      "=================================================================\n",
      "Total params: 8,970\n",
      "Trainable params: 8,970\n",
      "Non-trainable params: 0\n",
      "_________________________________________________________________\n"
     ]
    }
   ],
   "source": [
    "from tensorflow.keras.models import Sequential\n",
    "from tensorflow.keras.layers import Dense\n",
    "\n",
    "model = Sequential()\n",
    "\n",
    "# Input layer\n",
    "model.add(Dense(64, activation='relu', input_shape=(64,))) # 64 neurons, ReLU activation, input shape of 64\n",
    "\n",
    "# Hidden layer\n",
    "model.add(Dense(64, activation='relu')) # 64 neurons, ReLU activation\n",
    "\n",
    "# Output layer\n",
    "model.add(Dense(10, activation='softmax')) # 10 neurons, softmax activation\n",
    "\n",
    "model.summary()"
   ]
  },
  {
   "cell_type": "markdown",
   "metadata": {
    "collapsed": false
   },
   "source": [
    "Congratulations! You have just built your first neural network with Keras. As we can confirm from the `model.summary()` output, our model has 3 layers. The first layer has 64 neurons, the second layer has 64 neurons, and the output layer has 10 neurons. The output layer uses the softmax activation function, which is commonly used for multi-class classification problems. The other layers use the ReLU activation function, which is commonly used for hidden layers in neural networks.\n",
    "\n",
    "Next, we need to compile the model. This is where we define the loss function, the optimizer, and the metrics that we want to use to evaluate the model. We will use the `compile` method of the model to do this."
   ]
  },
  {
   "cell_type": "code",
   "execution_count": 52,
   "metadata": {
    "collapsed": false
   },
   "outputs": [],
   "source": [
    "model.compile(\n",
    "    loss='categorical_crossentropy', # Loss function\n",
    "    optimizer='sgd', # Optimizer\n",
    "    metrics=['accuracy'] # Metrics to evaluate the model\n",
    ")"
   ]
  },
  {
   "cell_type": "markdown",
   "metadata": {
    "collapsed": false
   },
   "source": [
    "Because we are predicting which class a sample belongs to, we will use the `categorical_crossentropy` function. This loss function is commonly used for multi-class classification problems. \n",
    "\n",
    "For our optimizer, we are using the standard stochastic gradient descent (SGD) algorithm. This is a simple optimizer that works well for many problems. We will look at more advanced optimizers later in the course.\n",
    "\n",
    "Finally, we are using the `accuracy` metric to evaluate the model. This is a common metric for classification problems, and it is simply the fraction of samples that are correctly classified. This is an easier metric for us to understand, but it's not quite as useful for actually training the model (for example, it doesn't tell us how \"confident\" the model is in its predictions).\n",
    "\n",
    "Now that we have (a) defined the model architecture and (b) compiled the model, we are ready to train the model. We will use the `fit` method of the model to do this."
   ]
  },
  {
   "cell_type": "code",
   "execution_count": 37,
   "metadata": {
    "collapsed": false
   },
   "outputs": [
    {
     "name": "stdout",
     "output_type": "stream",
     "text": [
      "Epoch 1/15\n",
      "36/36 [==============================] - 1s 10ms/step - loss: 1.4234 - accuracy: 0.5997 - val_loss: 0.6838 - val_accuracy: 0.7778\n",
      "Epoch 2/15\n",
      "36/36 [==============================] - 0s 3ms/step - loss: 0.4876 - accuracy: 0.8372 - val_loss: 0.4625 - val_accuracy: 0.8438\n",
      "Epoch 3/15\n",
      "36/36 [==============================] - 0s 3ms/step - loss: 0.2976 - accuracy: 0.9173 - val_loss: 0.3784 - val_accuracy: 0.8785\n",
      "Epoch 4/15\n",
      "36/36 [==============================] - 0s 3ms/step - loss: 0.2198 - accuracy: 0.9426 - val_loss: 0.3070 - val_accuracy: 0.8958\n",
      "Epoch 5/15\n",
      "36/36 [==============================] - 0s 3ms/step - loss: 0.1812 - accuracy: 0.9504 - val_loss: 0.2833 - val_accuracy: 0.9028\n",
      "Epoch 6/15\n",
      "36/36 [==============================] - 0s 3ms/step - loss: 0.1446 - accuracy: 0.9669 - val_loss: 0.2510 - val_accuracy: 0.8993\n",
      "Epoch 7/15\n",
      "36/36 [==============================] - 0s 3ms/step - loss: 0.1165 - accuracy: 0.9721 - val_loss: 0.2483 - val_accuracy: 0.9167\n",
      "Epoch 8/15\n",
      "36/36 [==============================] - 0s 3ms/step - loss: 0.1006 - accuracy: 0.9756 - val_loss: 0.2141 - val_accuracy: 0.9132\n",
      "Epoch 9/15\n",
      "36/36 [==============================] - 0s 3ms/step - loss: 0.0884 - accuracy: 0.9809 - val_loss: 0.2095 - val_accuracy: 0.9132\n",
      "Epoch 10/15\n",
      "36/36 [==============================] - 0s 3ms/step - loss: 0.0770 - accuracy: 0.9852 - val_loss: 0.2124 - val_accuracy: 0.9062\n",
      "Epoch 11/15\n",
      "36/36 [==============================] - 0s 3ms/step - loss: 0.0684 - accuracy: 0.9861 - val_loss: 0.2128 - val_accuracy: 0.9167\n",
      "Epoch 12/15\n",
      "36/36 [==============================] - 0s 3ms/step - loss: 0.0654 - accuracy: 0.9869 - val_loss: 0.1952 - val_accuracy: 0.9201\n",
      "Epoch 13/15\n",
      "36/36 [==============================] - 0s 3ms/step - loss: 0.0541 - accuracy: 0.9896 - val_loss: 0.1908 - val_accuracy: 0.9201\n",
      "Epoch 14/15\n",
      "36/36 [==============================] - 0s 3ms/step - loss: 0.0497 - accuracy: 0.9913 - val_loss: 0.1988 - val_accuracy: 0.9201\n",
      "Epoch 15/15\n",
      "36/36 [==============================] - 0s 3ms/step - loss: 0.0455 - accuracy: 0.9896 - val_loss: 0.1926 - val_accuracy: 0.9271\n"
     ]
    },
    {
     "data": {
      "text/plain": [
       "<keras.callbacks.History at 0x2669281f820>"
      ]
     },
     "execution_count": 37,
     "metadata": {},
     "output_type": "execute_result"
    }
   ],
   "source": [
    "model.fit(\n",
    "    X_train, # Training data\n",
    "    y_train, # Training labels\n",
    "    epochs=15, # Number of epochs\n",
    "    batch_size=32, # Number of samples per batch\n",
    "    validation_split=0.2 # Use 20% of the data for validation\n",
    ")"
   ]
  },
  {
   "cell_type": "markdown",
   "metadata": {
    "collapsed": false
   },
   "source": [
    "We have now trained our model! We can see that the model has been trained for 5 epochs, and the loss and accuracy have been printed for each epoch. We can also see that the model has been evaluated on the validation data at the end of each epoch. This is useful for us to see how the model is performing on data that it hasn't seen during training.\n",
    "\n",
    "Once the model is trained, it's time to evaluate the model on the test set. We can use the `evaluate` method of the model to do this. If you were building a model for a real-world application, this is the very last thing you would do, and the result here would be the figure you'd report in your paper or presentation."
   ]
  },
  {
   "cell_type": "code",
   "execution_count": 15,
   "metadata": {
    "collapsed": false
   },
   "outputs": [
    {
     "name": "stdout",
     "output_type": "stream",
     "text": [
      "12/12 [==============================] - 0s 2ms/step - loss: 0.2122 - accuracy: 0.9361\n",
      "Loss:     0.21\n",
      "Accuracy: 93.61%\n"
     ]
    }
   ],
   "source": [
    "loss, accuracy = model.evaluate(X_test, y_test)\n",
    "\n",
    "print(f'Loss:     {loss:.2f}')\n",
    "print(f'Accuracy: {accuracy*100:.2f}%')"
   ]
  },
  {
   "cell_type": "markdown",
   "metadata": {
    "collapsed": false
   },
   "source": [
    "Hopefully you have achieved an accuracy of around 95%. This is pretty good, but we can do better! In the next section, we will look at how we can improve the performance of our model by using a more advanced optimizer. But before we get there, let's do one other thing - let's look at the predictions that our model is making on the test set. When you are building a model, it's often useful to have a look at some of the examples your model is getting wrong. Sometimes this can reveal problems with the data, or it can give you ideas for how to improve your model."
   ]
  },
  {
   "cell_type": "code",
   "execution_count": 16,
   "metadata": {
    "collapsed": false
   },
   "outputs": [
    {
     "name": "stdout",
     "output_type": "stream",
     "text": [
      "12/12 [==============================] - 0s 2ms/step\n"
     ]
    },
    {
     "data": {
      "image/png": "[encoded data removed]",
      "text/plain": [
       "<Figure size 600x600 with 9 Axes>"
      ]
     },
     "metadata": {},
     "output_type": "display_data"
    }
   ],
   "source": [
    "# Get the predictions for the test data\n",
    "predictions = model.predict(X_test)\n",
    "\n",
    "# Get the index of the largest probability (i.e. the predicted class)\n",
    "predicted_classes = np.argmax(predictions, axis=1)\n",
    "true_classes = np.argmax(y_test, axis=1)\n",
    "misclassified_indices = np.where(predicted_classes != true_classes)[0]\n",
    "\n",
    "# Get the misclassified samples themselves\n",
    "misclassified_samples = X_test[misclassified_indices]\n",
    "misclassified_labels = np.argmax(y_test[misclassified_indices], axis=1)\n",
    "\n",
    "# Pick 9 random misclassified samples\n",
    "random_indices = np.random.choice(len(misclassified_indices), 9, replace=False)\n",
    "\n",
    "fig, axes = plt.subplots(3, 3, figsize=(6, 6))\n",
    "for i, ax in enumerate(axes.flat):\n",
    "    ax.imshow(misclassified_samples[random_indices[i]].reshape(8, 8), cmap=plt.cm.gray_r, interpolation='nearest')\n",
    "    ax.set_title(f\"Pred: {predicted_classes[misclassified_indices[random_indices[i]]]}, Real: {misclassified_labels[random_indices[i]]}\")\n",
    "\n",
    "    # Removing axis labels\n",
    "    ax.set_xticks([])\n",
    "    ax.set_yticks([])\n",
    "    \n",
    "plt.show()"
   ]
  },
  {
   "cell_type": "markdown",
   "metadata": {
    "collapsed": false
   },
   "source": [
    "What do you think? Would you have made the same mistakes as the model? Determining whether the mistakes are \"understandable\" is a rough way of seeing if you could improve the model further, or if this is the best you can do with the data you have."
   ]
  },
  {
   "cell_type": "markdown",
   "metadata": {},
   "source": [
    "### b) Exercises: Impact of the Optimizer\n",
    "\n",
    "In this section, you will play around with the optimizer and see how it affects the performance of the model. We will start with the standard SGD optimizer, and then we will look at more advanced optimizers.\n",
    "\n",
    "1. Try decreasing the learning rate of the SGD optimizer by a factor of 10, or 100. What do you observe?\n",
    "2. Try increasing the learning rate of the SGD optimizer. What happens?\n",
    "3. The SGD optimizer has a momentum parameter. In a nutshell, this parameter controls how much the gradient from the previous step affects the current step. Try enabling momentum in the SGD optimizer with a value of 0.9. What happens?\n",
    "  \n",
    "**Notes**: \n",
    "\n",
    "The keras API documentation is available at:\n",
    "\n",
    "https://www.tensorflow.org/api_docs/python/tf/keras\n",
    "\n",
    "It is also possible to learn more about the parameters of a class by using the question mark: type and evaluate:\n",
    "\n",
    "```python\n",
    "optimizers.SGD?\n",
    "```\n",
    "\n",
    "in a jupyter notebook cell.\n",
    "\n",
    "It is also possible to type the beginning of a function call / constructor and type \"shift-tab\" after the opening paren:\n",
    "\n",
    "```python\n",
    "optimizers.SGD(<shift-tab>\n",
    "```"
   ]
  },
  {
   "cell_type": "code",
   "execution_count": 109,
   "metadata": {},
   "outputs": [
    {
     "name": "stdout",
     "output_type": "stream",
     "text": [
      "Epoch 1/15\n",
      "36/36 [==============================] - 1s 11ms/step - loss: 3.0233 - accuracy: 0.2585 - val_loss: 2.1847 - val_accuracy: 0.3750\n",
      "Epoch 2/15\n",
      "36/36 [==============================] - 0s 3ms/step - loss: 1.7765 - accuracy: 0.4343 - val_loss: 1.5829 - val_accuracy: 0.4826\n",
      "Epoch 3/15\n",
      "36/36 [==============================] - 0s 3ms/step - loss: 1.3447 - accuracy: 0.5701 - val_loss: 1.2899 - val_accuracy: 0.5694\n",
      "Epoch 4/15\n",
      "36/36 [==============================] - 0s 3ms/step - loss: 1.0854 - accuracy: 0.6701 - val_loss: 1.0673 - val_accuracy: 0.6389\n",
      "Epoch 5/15\n",
      "36/36 [==============================] - 0s 3ms/step - loss: 0.9135 - accuracy: 0.7128 - val_loss: 0.9206 - val_accuracy: 0.7083\n",
      "Epoch 6/15\n",
      "36/36 [==============================] - 0s 3ms/step - loss: 0.7853 - accuracy: 0.7589 - val_loss: 0.8087 - val_accuracy: 0.7465\n",
      "Epoch 7/15\n",
      "36/36 [==============================] - 0s 3ms/step - loss: 0.6923 - accuracy: 0.7998 - val_loss: 0.7451 - val_accuracy: 0.7743\n",
      "Epoch 8/15\n",
      "36/36 [==============================] - 0s 3ms/step - loss: 0.6193 - accuracy: 0.8164 - val_loss: 0.6795 - val_accuracy: 0.8090\n",
      "Epoch 9/15\n",
      "36/36 [==============================] - 0s 3ms/step - loss: 0.5646 - accuracy: 0.8364 - val_loss: 0.6250 - val_accuracy: 0.8264\n",
      "Epoch 10/15\n",
      "36/36 [==============================] - 0s 3ms/step - loss: 0.5170 - accuracy: 0.8486 - val_loss: 0.5851 - val_accuracy: 0.8194\n",
      "Epoch 11/15\n",
      "36/36 [==============================] - 0s 3ms/step - loss: 0.4782 - accuracy: 0.8607 - val_loss: 0.5509 - val_accuracy: 0.8368\n",
      "Epoch 12/15\n",
      "36/36 [==============================] - 0s 3ms/step - loss: 0.4431 - accuracy: 0.8729 - val_loss: 0.5237 - val_accuracy: 0.8368\n",
      "Epoch 13/15\n",
      "36/36 [==============================] - 0s 4ms/step - loss: 0.4171 - accuracy: 0.8790 - val_loss: 0.5019 - val_accuracy: 0.8542\n",
      "Epoch 14/15\n",
      "36/36 [==============================] - 0s 5ms/step - loss: 0.3918 - accuracy: 0.8851 - val_loss: 0.4793 - val_accuracy: 0.8646\n",
      "Epoch 15/15\n",
      "36/36 [==============================] - 0s 4ms/step - loss: 0.3705 - accuracy: 0.9008 - val_loss: 0.4660 - val_accuracy: 0.8646\n"
     ]
    },
    {
     "data": {
      "text/plain": [
       "<keras.callbacks.History at 0x2669e1c2f70>"
      ]
     },
     "execution_count": 109,
     "metadata": {},
     "output_type": "execute_result"
    }
   ],
   "source": [
    "# Your code here - copy the relevant parts from the previous section and add more cells as needed\n",
    "from tensorflow.keras import optimizers\n",
    "\n",
    "model = Sequential()\n",
    "# Input layer\n",
    "model.add(Dense(64, activation='relu', input_shape=(64,))) # 64 neurons, ReLU activation, input shape of 64\n",
    "# Hidden layer\n",
    "model.add(Dense(64, activation='relu')) # 64 neurons, ReLU activation\n",
    "# Output layer\n",
    "model.add(Dense(10, activation='softmax')) # 10 neurons, softmax activation\n",
    "\n",
    "model.compile(\n",
    "    loss='categorical_crossentropy', # Loss function\n",
    "    optimizer=optimizers.SGD( learning_rate=0.001), # Optimizer\n",
    "    metrics=['accuracy'] # Metrics to evaluate the model\n",
    ")\n",
    "\n",
    "model.fit(\n",
    "    X_train, # Training data\n",
    "    y_train, # Training labels\n",
    "    epochs=15, # Number of epochs\n",
    "    batch_size=32, # Number of samples per batch\n",
    "    validation_split=0.2 # Use 20% of the data for validation\n",
    ")"
   ]
  },
  {
   "cell_type": "code",
   "execution_count": 110,
   "metadata": {},
   "outputs": [
    {
     "name": "stdout",
     "output_type": "stream",
     "text": [
      "Epoch 1/15\n",
      "36/36 [==============================] - 1s 11ms/step - loss: 5.7653 - accuracy: 0.1375 - val_loss: 4.9623 - val_accuracy: 0.1215\n",
      "Epoch 2/15\n",
      "36/36 [==============================] - 0s 4ms/step - loss: 4.5083 - accuracy: 0.1445 - val_loss: 4.1268 - val_accuracy: 0.1424\n",
      "Epoch 3/15\n",
      "36/36 [==============================] - 0s 3ms/step - loss: 3.8331 - accuracy: 0.1584 - val_loss: 3.5847 - val_accuracy: 0.1528\n",
      "Epoch 4/15\n",
      "36/36 [==============================] - 0s 3ms/step - loss: 3.3661 - accuracy: 0.1723 - val_loss: 3.1835 - val_accuracy: 0.1771\n",
      "Epoch 5/15\n",
      "36/36 [==============================] - 0s 3ms/step - loss: 3.0112 - accuracy: 0.2115 - val_loss: 2.8712 - val_accuracy: 0.2049\n",
      "Epoch 6/15\n",
      "36/36 [==============================] - 0s 3ms/step - loss: 2.7267 - accuracy: 0.2419 - val_loss: 2.6187 - val_accuracy: 0.2361\n",
      "Epoch 7/15\n",
      "36/36 [==============================] - 0s 4ms/step - loss: 2.4970 - accuracy: 0.2742 - val_loss: 2.4170 - val_accuracy: 0.2604\n",
      "Epoch 8/15\n",
      "36/36 [==============================] - 0s 3ms/step - loss: 2.3118 - accuracy: 0.2985 - val_loss: 2.2558 - val_accuracy: 0.3056\n",
      "Epoch 9/15\n",
      "36/36 [==============================] - 0s 5ms/step - loss: 2.1623 - accuracy: 0.3342 - val_loss: 2.1251 - val_accuracy: 0.3299\n",
      "Epoch 10/15\n",
      "36/36 [==============================] - 0s 4ms/step - loss: 2.0390 - accuracy: 0.3638 - val_loss: 2.0176 - val_accuracy: 0.3507\n",
      "Epoch 11/15\n",
      "36/36 [==============================] - 0s 3ms/step - loss: 1.9361 - accuracy: 0.3873 - val_loss: 1.9273 - val_accuracy: 0.3681\n",
      "Epoch 12/15\n",
      "36/36 [==============================] - 0s 3ms/step - loss: 1.8474 - accuracy: 0.4056 - val_loss: 1.8495 - val_accuracy: 0.3889\n",
      "Epoch 13/15\n",
      "36/36 [==============================] - 0s 3ms/step - loss: 1.7699 - accuracy: 0.4247 - val_loss: 1.7808 - val_accuracy: 0.4132\n",
      "Epoch 14/15\n",
      "36/36 [==============================] - 0s 3ms/step - loss: 1.7008 - accuracy: 0.4413 - val_loss: 1.7186 - val_accuracy: 0.4340\n",
      "Epoch 15/15\n",
      "36/36 [==============================] - 0s 3ms/step - loss: 1.6382 - accuracy: 0.4613 - val_loss: 1.6619 - val_accuracy: 0.4410\n"
     ]
    },
    {
     "data": {
      "text/plain": [
       "<keras.callbacks.History at 0x2669f717c70>"
      ]
     },
     "execution_count": 110,
     "metadata": {},
     "output_type": "execute_result"
    }
   ],
   "source": [
    "model = Sequential()\n",
    "# Input layer\n",
    "model.add(Dense(64, activation='relu', input_shape=(64,))) # 64 neurons, ReLU activation, input shape of 64\n",
    "# Hidden layer\n",
    "model.add(Dense(64, activation='relu')) # 64 neurons, ReLU activation\n",
    "# Output layer\n",
    "model.add(Dense(10, activation='softmax')) # 10 neurons, softmax activation\n",
    "\n",
    "model.compile(\n",
    "    loss='categorical_crossentropy', # Loss function\n",
    "    optimizer=optimizers.SGD( learning_rate=0.0001), # Optimizer\n",
    "    metrics=['accuracy'] # Metrics to evaluate the model\n",
    ")\n",
    "\n",
    "model.fit(\n",
    "    X_train, # Training data\n",
    "    y_train, # Training labels\n",
    "    epochs=15, # Number of epochs\n",
    "    batch_size=32, # Number of samples per batch\n",
    "    validation_split=0.2 # Use 20% of the data for validation\n",
    ")"
   ]
  },
  {
   "cell_type": "code",
   "execution_count": 111,
   "metadata": {},
   "outputs": [
    {
     "name": "stdout",
     "output_type": "stream",
     "text": [
      "Epoch 1/15\n",
      "36/36 [==============================] - 1s 11ms/step - loss: 5.4063 - accuracy: 0.1506 - val_loss: 2.3025 - val_accuracy: 0.1042\n",
      "Epoch 2/15\n",
      "36/36 [==============================] - 0s 3ms/step - loss: 2.2864 - accuracy: 0.1158 - val_loss: 2.3009 - val_accuracy: 0.1111\n",
      "Epoch 3/15\n",
      "36/36 [==============================] - 0s 3ms/step - loss: 2.2186 - accuracy: 0.1419 - val_loss: 2.2605 - val_accuracy: 0.1250\n",
      "Epoch 4/15\n",
      "36/36 [==============================] - 0s 3ms/step - loss: 2.0984 - accuracy: 0.1828 - val_loss: 1.9902 - val_accuracy: 0.2083\n",
      "Epoch 5/15\n",
      "36/36 [==============================] - 0s 3ms/step - loss: 1.9810 - accuracy: 0.1958 - val_loss: 1.9993 - val_accuracy: 0.2118\n",
      "Epoch 6/15\n",
      "36/36 [==============================] - 0s 3ms/step - loss: 1.9924 - accuracy: 0.2002 - val_loss: 1.9986 - val_accuracy: 0.2465\n",
      "Epoch 7/15\n",
      "36/36 [==============================] - 0s 3ms/step - loss: 1.9085 - accuracy: 0.2150 - val_loss: 1.8665 - val_accuracy: 0.2639\n",
      "Epoch 8/15\n",
      "36/36 [==============================] - 0s 3ms/step - loss: 1.8740 - accuracy: 0.2106 - val_loss: 1.8707 - val_accuracy: 0.2569\n",
      "Epoch 9/15\n",
      "36/36 [==============================] - 0s 3ms/step - loss: 1.8204 - accuracy: 0.2106 - val_loss: 1.8465 - val_accuracy: 0.2292\n",
      "Epoch 10/15\n",
      "36/36 [==============================] - 0s 3ms/step - loss: 1.8211 - accuracy: 0.2446 - val_loss: 1.7753 - val_accuracy: 0.2396\n",
      "Epoch 11/15\n",
      "36/36 [==============================] - 0s 3ms/step - loss: 1.7872 - accuracy: 0.2332 - val_loss: 1.8354 - val_accuracy: 0.1875\n",
      "Epoch 12/15\n",
      "36/36 [==============================] - 0s 3ms/step - loss: 1.7659 - accuracy: 0.2080 - val_loss: 1.7420 - val_accuracy: 0.2500\n",
      "Epoch 13/15\n",
      "36/36 [==============================] - 0s 3ms/step - loss: 1.7761 - accuracy: 0.2237 - val_loss: 1.7296 - val_accuracy: 0.2431\n",
      "Epoch 14/15\n",
      "36/36 [==============================] - 0s 4ms/step - loss: 1.7502 - accuracy: 0.2315 - val_loss: 1.7348 - val_accuracy: 0.2500\n",
      "Epoch 15/15\n",
      "36/36 [==============================] - 0s 4ms/step - loss: 1.7646 - accuracy: 0.2437 - val_loss: 1.8362 - val_accuracy: 0.2465\n"
     ]
    },
    {
     "data": {
      "text/plain": [
       "<keras.callbacks.History at 0x2669850f130>"
      ]
     },
     "execution_count": 111,
     "metadata": {},
     "output_type": "execute_result"
    }
   ],
   "source": [
    "model = Sequential()\n",
    "# Input layer\n",
    "model.add(Dense(64, activation='relu', input_shape=(64,))) # 64 neurons, ReLU activation, input shape of 64\n",
    "# Hidden layer\n",
    "model.add(Dense(64, activation='relu')) # 64 neurons, ReLU activation\n",
    "# Output layer\n",
    "model.add(Dense(10, activation='softmax')) # 10 neurons, softmax activation\n",
    "\n",
    "model.compile(\n",
    "    loss='categorical_crossentropy', # Loss function\n",
    "    optimizer=optimizers.SGD( learning_rate=0.1), # Optimizer\n",
    "    metrics=['accuracy'] # Metrics to evaluate the model\n",
    ")\n",
    "\n",
    "model.fit(\n",
    "    X_train, # Training data\n",
    "    y_train, # Training labels\n",
    "    epochs=15, # Number of epochs\n",
    "    batch_size=32, # Number of samples per batch\n",
    "    validation_split=0.2 # Use 20% of the data for validation\n",
    ")"
   ]
  },
  {
   "cell_type": "code",
   "execution_count": 114,
   "metadata": {},
   "outputs": [
    {
     "name": "stdout",
     "output_type": "stream",
     "text": [
      "Epoch 1/15\n",
      "36/36 [==============================] - 1s 10ms/step - loss: 1.7381 - accuracy: 0.6066 - val_loss: 0.6282 - val_accuracy: 0.8472\n",
      "Epoch 2/15\n",
      "36/36 [==============================] - 0s 3ms/step - loss: 0.3345 - accuracy: 0.8964 - val_loss: 0.3152 - val_accuracy: 0.8993\n",
      "Epoch 3/15\n",
      "36/36 [==============================] - 0s 4ms/step - loss: 0.2191 - accuracy: 0.9295 - val_loss: 0.3872 - val_accuracy: 0.8924\n",
      "Epoch 4/15\n",
      "36/36 [==============================] - 0s 3ms/step - loss: 0.1370 - accuracy: 0.9634 - val_loss: 0.2439 - val_accuracy: 0.9306\n",
      "Epoch 5/15\n",
      "36/36 [==============================] - 0s 3ms/step - loss: 0.0724 - accuracy: 0.9756 - val_loss: 0.2197 - val_accuracy: 0.9236\n",
      "Epoch 6/15\n",
      "36/36 [==============================] - 0s 3ms/step - loss: 0.0448 - accuracy: 0.9869 - val_loss: 0.2062 - val_accuracy: 0.9236\n",
      "Epoch 7/15\n",
      "36/36 [==============================] - 0s 4ms/step - loss: 0.0400 - accuracy: 0.9852 - val_loss: 0.2271 - val_accuracy: 0.9340\n",
      "Epoch 8/15\n",
      "36/36 [==============================] - 0s 3ms/step - loss: 0.0260 - accuracy: 0.9930 - val_loss: 0.1826 - val_accuracy: 0.9340\n",
      "Epoch 9/15\n",
      "36/36 [==============================] - 0s 3ms/step - loss: 0.0228 - accuracy: 0.9930 - val_loss: 0.1871 - val_accuracy: 0.9306\n",
      "Epoch 10/15\n",
      "36/36 [==============================] - 0s 3ms/step - loss: 0.0123 - accuracy: 0.9965 - val_loss: 0.1892 - val_accuracy: 0.9375\n",
      "Epoch 11/15\n",
      "36/36 [==============================] - 0s 3ms/step - loss: 0.0084 - accuracy: 0.9983 - val_loss: 0.1748 - val_accuracy: 0.9410\n",
      "Epoch 12/15\n",
      "36/36 [==============================] - 0s 3ms/step - loss: 0.0073 - accuracy: 1.0000 - val_loss: 0.1671 - val_accuracy: 0.9375\n",
      "Epoch 13/15\n",
      "36/36 [==============================] - 0s 3ms/step - loss: 0.0066 - accuracy: 0.9991 - val_loss: 0.1962 - val_accuracy: 0.9306\n",
      "Epoch 14/15\n",
      "36/36 [==============================] - 0s 3ms/step - loss: 0.0057 - accuracy: 0.9991 - val_loss: 0.1831 - val_accuracy: 0.9444\n",
      "Epoch 15/15\n",
      "36/36 [==============================] - 0s 3ms/step - loss: 0.0030 - accuracy: 1.0000 - val_loss: 0.1825 - val_accuracy: 0.9444\n"
     ]
    },
    {
     "data": {
      "text/plain": [
       "<keras.callbacks.History at 0x2669c5d8ee0>"
      ]
     },
     "execution_count": 114,
     "metadata": {},
     "output_type": "execute_result"
    }
   ],
   "source": [
    "model = Sequential()\n",
    "# Input layer\n",
    "model.add(Dense(64, activation='relu', input_shape=(64,))) # 64 neurons, ReLU activation, input shape of 64\n",
    "# Hidden layer\n",
    "model.add(Dense(64, activation='relu')) # 64 neurons, ReLU activation\n",
    "# Output layer\n",
    "model.add(Dense(10, activation='softmax')) # 10 neurons, softmax activation\n",
    "\n",
    "model.compile(\n",
    "    loss='categorical_crossentropy', # Loss function\n",
    "    optimizer=optimizers.SGD( learning_rate=0.01, momentum=0.9), # Optimizer\n",
    "    metrics=['accuracy'] # Metrics to evaluate the model\n",
    ")\n",
    "\n",
    "model.fit(\n",
    "    X_train, # Training data\n",
    "    y_train, # Training labels\n",
    "    epochs=15, # Number of epochs\n",
    "    batch_size=32, # Number of samples per batch\n",
    "    validation_split=0.2 # Use 20% of the data for validation\n",
    ")"
   ]
  },
  {
   "cell_type": "markdown",
   "metadata": {},
   "source": [
    "Next, let's try a more advanced optimizer. Adam is likely the most popular optimizer for deep learning. It is an adaptive learning rate optimizer, which means that it automatically adjusts the learning rate based on how the training is going. This can be very useful, as it means that we don't need to manually tune the learning rate. Let's see how it performs on our model.\n",
    "\n",
    "\n",
    "1. Replace the SGD optimizer by the Adam optimizer from keras and run it\n",
    "  with the default parameters.\n",
    "\n",
    "2. Add another hidden layer with ReLU activation and 64 neurons. Does it improve the model performance?\n"
   ]
  },
  {
   "cell_type": "code",
   "execution_count": 115,
   "metadata": {},
   "outputs": [
    {
     "name": "stdout",
     "output_type": "stream",
     "text": [
      "Epoch 1/15\n",
      "36/36 [==============================] - 1s 11ms/step - loss: 2.2985 - accuracy: 0.4299 - val_loss: 0.9393 - val_accuracy: 0.6944\n",
      "Epoch 2/15\n",
      "36/36 [==============================] - 0s 4ms/step - loss: 0.6249 - accuracy: 0.8172 - val_loss: 0.4868 - val_accuracy: 0.8681\n",
      "Epoch 3/15\n",
      "36/36 [==============================] - 0s 4ms/step - loss: 0.2958 - accuracy: 0.9225 - val_loss: 0.2968 - val_accuracy: 0.9236\n",
      "Epoch 4/15\n",
      "36/36 [==============================] - 0s 4ms/step - loss: 0.1812 - accuracy: 0.9539 - val_loss: 0.2301 - val_accuracy: 0.9375\n",
      "Epoch 5/15\n",
      "36/36 [==============================] - 0s 4ms/step - loss: 0.1220 - accuracy: 0.9687 - val_loss: 0.2192 - val_accuracy: 0.9375\n",
      "Epoch 6/15\n",
      "36/36 [==============================] - 0s 4ms/step - loss: 0.0937 - accuracy: 0.9748 - val_loss: 0.1994 - val_accuracy: 0.9479\n",
      "Epoch 7/15\n",
      "36/36 [==============================] - 0s 4ms/step - loss: 0.0768 - accuracy: 0.9800 - val_loss: 0.1896 - val_accuracy: 0.9340\n",
      "Epoch 8/15\n",
      "36/36 [==============================] - 0s 8ms/step - loss: 0.0593 - accuracy: 0.9887 - val_loss: 0.1652 - val_accuracy: 0.9444\n",
      "Epoch 9/15\n",
      "36/36 [==============================] - 0s 4ms/step - loss: 0.0483 - accuracy: 0.9904 - val_loss: 0.1646 - val_accuracy: 0.9514\n",
      "Epoch 10/15\n",
      "36/36 [==============================] - 0s 4ms/step - loss: 0.0366 - accuracy: 0.9948 - val_loss: 0.1590 - val_accuracy: 0.9549\n",
      "Epoch 11/15\n",
      "36/36 [==============================] - 0s 4ms/step - loss: 0.0299 - accuracy: 0.9974 - val_loss: 0.1536 - val_accuracy: 0.9479\n",
      "Epoch 12/15\n",
      "36/36 [==============================] - 0s 4ms/step - loss: 0.0242 - accuracy: 0.9983 - val_loss: 0.1441 - val_accuracy: 0.9514\n",
      "Epoch 13/15\n",
      "36/36 [==============================] - 0s 3ms/step - loss: 0.0186 - accuracy: 0.9983 - val_loss: 0.1494 - val_accuracy: 0.9583\n",
      "Epoch 14/15\n",
      "36/36 [==============================] - 0s 4ms/step - loss: 0.0162 - accuracy: 0.9983 - val_loss: 0.1484 - val_accuracy: 0.9549\n",
      "Epoch 15/15\n",
      "36/36 [==============================] - 0s 4ms/step - loss: 0.0138 - accuracy: 0.9991 - val_loss: 0.1488 - val_accuracy: 0.9514\n"
     ]
    },
    {
     "data": {
      "text/plain": [
       "<keras.callbacks.History at 0x2669877fd30>"
      ]
     },
     "execution_count": 115,
     "metadata": {},
     "output_type": "execute_result"
    }
   ],
   "source": [
    "# Your code here\n",
    "\n",
    "model = Sequential()\n",
    "# Input layer\n",
    "model.add(Dense(64, activation='relu', input_shape=(64,))) # 64 neurons, ReLU activation, input shape of 64\n",
    "# Hidden layer\n",
    "model.add(Dense(64, activation='relu')) # 64 neurons, ReLU activation\n",
    "# Output layer\n",
    "model.add(Dense(10, activation='softmax')) # 10 neurons, softmax activation\n",
    "\n",
    "model.compile(\n",
    "    loss='categorical_crossentropy', # Loss function\n",
    "    optimizer=optimizers.Adam(), # Optimizer\n",
    "    metrics=['accuracy'] # Metrics to evaluate the model\n",
    ")\n",
    "\n",
    "model.fit(\n",
    "    X_train, # Training data\n",
    "    y_train, # Training labels\n",
    "    epochs=15, # Number of epochs\n",
    "    batch_size=32, # Number of samples per batch\n",
    "    validation_split=0.2 # Use 20% of the data for validation\n",
    ")"
   ]
  },
  {
   "cell_type": "code",
   "execution_count": 116,
   "metadata": {},
   "outputs": [
    {
     "name": "stdout",
     "output_type": "stream",
     "text": [
      "Epoch 1/15\n",
      "36/36 [==============================] - 1s 13ms/step - loss: 1.5520 - accuracy: 0.5570 - val_loss: 0.5395 - val_accuracy: 0.8333\n",
      "Epoch 2/15\n",
      "36/36 [==============================] - 0s 4ms/step - loss: 0.4387 - accuracy: 0.8668 - val_loss: 0.3569 - val_accuracy: 0.8993\n",
      "Epoch 3/15\n",
      "36/36 [==============================] - 0s 4ms/step - loss: 0.1850 - accuracy: 0.9478 - val_loss: 0.2409 - val_accuracy: 0.9167\n",
      "Epoch 4/15\n",
      "36/36 [==============================] - 0s 4ms/step - loss: 0.1447 - accuracy: 0.9504 - val_loss: 0.2336 - val_accuracy: 0.9236\n",
      "Epoch 5/15\n",
      "36/36 [==============================] - 0s 4ms/step - loss: 0.1475 - accuracy: 0.9443 - val_loss: 0.3263 - val_accuracy: 0.9167\n",
      "Epoch 6/15\n",
      "36/36 [==============================] - 0s 4ms/step - loss: 0.1241 - accuracy: 0.9591 - val_loss: 0.1834 - val_accuracy: 0.9236\n",
      "Epoch 7/15\n",
      "36/36 [==============================] - 0s 5ms/step - loss: 0.0680 - accuracy: 0.9817 - val_loss: 0.1720 - val_accuracy: 0.9514\n",
      "Epoch 8/15\n",
      "36/36 [==============================] - 0s 4ms/step - loss: 0.0844 - accuracy: 0.9730 - val_loss: 0.1626 - val_accuracy: 0.9514\n",
      "Epoch 9/15\n",
      "36/36 [==============================] - 0s 4ms/step - loss: 0.0378 - accuracy: 0.9904 - val_loss: 0.1223 - val_accuracy: 0.9549\n",
      "Epoch 10/15\n",
      "36/36 [==============================] - 0s 4ms/step - loss: 0.0180 - accuracy: 0.9956 - val_loss: 0.1289 - val_accuracy: 0.9618\n",
      "Epoch 11/15\n",
      "36/36 [==============================] - 0s 4ms/step - loss: 0.0164 - accuracy: 0.9965 - val_loss: 0.1537 - val_accuracy: 0.9583\n",
      "Epoch 12/15\n",
      "36/36 [==============================] - 0s 4ms/step - loss: 0.0073 - accuracy: 0.9983 - val_loss: 0.1161 - val_accuracy: 0.9653\n",
      "Epoch 13/15\n",
      "36/36 [==============================] - 0s 4ms/step - loss: 0.0052 - accuracy: 0.9991 - val_loss: 0.1156 - val_accuracy: 0.9722\n",
      "Epoch 14/15\n",
      "36/36 [==============================] - 0s 4ms/step - loss: 0.0029 - accuracy: 0.9991 - val_loss: 0.1179 - val_accuracy: 0.9722\n",
      "Epoch 15/15\n",
      "36/36 [==============================] - 0s 4ms/step - loss: 0.0018 - accuracy: 1.0000 - val_loss: 0.1209 - val_accuracy: 0.9653\n"
     ]
    },
    {
     "data": {
      "text/plain": [
       "<keras.callbacks.History at 0x2669e26fe50>"
      ]
     },
     "execution_count": 116,
     "metadata": {},
     "output_type": "execute_result"
    }
   ],
   "source": [
    "model = Sequential()\n",
    "# Input layer\n",
    "model.add(Dense(64, activation='relu', input_shape=(64,))) # 64 neurons, ReLU activation, input shape of 64\n",
    "# Hidden layer\n",
    "model.add(Dense(64, activation='relu')) # 64 neurons, ReLU activation\n",
    "model.add(Dense(64, activation='relu'))\n",
    "# Output layer\n",
    "model.add(Dense(10, activation='softmax')) # 10 neurons, softmax activation\n",
    "\n",
    "model.compile(\n",
    "    loss='categorical_crossentropy', # Loss function\n",
    "    optimizer=optimizers.SGD( learning_rate=0.01, momentum=0.9), # Optimizer\n",
    "    metrics=['accuracy'] # Metrics to evaluate the model\n",
    ")\n",
    "\n",
    "model.fit(\n",
    "    X_train, # Training data\n",
    "    y_train, # Training labels\n",
    "    epochs=15, # Number of epochs\n",
    "    batch_size=32, # Number of samples per batch\n",
    "    validation_split=0.2 # Use 20% of the data for validation\n",
    ")"
   ]
  },
  {
   "cell_type": "code",
   "execution_count": 117,
   "metadata": {},
   "outputs": [
    {
     "name": "stdout",
     "output_type": "stream",
     "text": [
      "12/12 [==============================] - 0s 2ms/step - loss: 0.1339 - accuracy: 0.9639\n",
      "Loss:     0.13\n",
      "Accuracy: 96.39%\n"
     ]
    }
   ],
   "source": [
    "loss, accuracy = model.evaluate(X_test, y_test)\n",
    "\n",
    "print(f'Loss:     {loss:.2f}')\n",
    "print(f'Accuracy: {accuracy*100:.2f}%')"
   ]
  },
  {
   "cell_type": "markdown",
   "metadata": {},
   "source": [
    "### Exercises: Forward Pass and Generalization\n",
    "\n",
    "Let's look in more detail at how the model makes predictions on the test set. We will walk through each step of making predictions, examining exactly what's going on.\n",
    "\n",
    "To start, we will apply our model to the test set, and look at what we get as output:"
   ]
  },
  {
   "cell_type": "code",
   "execution_count": 118,
   "metadata": {},
   "outputs": [
    {
     "data": {
      "text/plain": [
       "<tf.Tensor: shape=(5, 10), dtype=float32, numpy=\n",
       "array([[1.23291697e-08, 4.17795665e-09, 4.80353479e-10, 1.64775205e-09,\n",
       "        2.48125593e-06, 1.01835100e-08, 9.99975383e-01, 3.86494198e-10,\n",
       "        2.20602560e-05, 5.33874941e-12],\n",
       "       [4.68831640e-09, 1.25561925e-07, 1.31532174e-09, 9.26962002e-06,\n",
       "        3.89540233e-10, 2.24320660e-03, 1.76937395e-10, 9.73769474e-08,\n",
       "        2.21998362e-05, 9.97725070e-01],\n",
       "       [7.82842673e-16, 2.19255191e-12, 1.11194227e-10, 9.99999940e-01,\n",
       "        1.26364183e-10, 5.66919987e-08, 2.73834792e-11, 3.67923536e-09,\n",
       "        2.31642727e-09, 3.82398291e-09],\n",
       "       [2.50958891e-07, 1.33524745e-05, 1.63461773e-05, 1.09586061e-07,\n",
       "        2.26582531e-04, 1.53043657e-05, 1.14857251e-07, 9.99632299e-01,\n",
       "        6.82733798e-06, 8.89015864e-05],\n",
       "       [2.12870941e-06, 2.43991781e-05, 9.92538810e-01, 4.75968514e-03,\n",
       "        1.63152016e-08, 2.99110379e-05, 1.51652534e-06, 3.91741378e-06,\n",
       "        2.62625283e-03, 1.33680278e-05]], dtype=float32)>"
      ]
     },
     "execution_count": 118,
     "metadata": {},
     "output_type": "execute_result"
    }
   ],
   "source": [
    "predictions_tf = model(X_test)\n",
    "predictions_tf[:5]"
   ]
  },
  {
   "cell_type": "code",
   "execution_count": 119,
   "metadata": {},
   "outputs": [
    {
     "data": {
      "text/plain": [
       "(tensorflow.python.framework.ops.EagerTensor, TensorShape([360, 10]))"
      ]
     },
     "execution_count": 119,
     "metadata": {},
     "output_type": "execute_result"
    }
   ],
   "source": [
    "type(predictions_tf), predictions_tf.shape"
   ]
  },
  {
   "cell_type": "markdown",
   "metadata": {},
   "source": [
    "The raw output of the model is a tensor of shape `(360, 10)`. This means that we have 360 samples, and for each sample we have 10 values. Each of these values represents the probability that the sample belongs to a given class. This means that we have 10 probabilities for each sample, and the sum of these probabilities is 1. We can confirm this by summing the probabilities for each sample:"
   ]
  },
  {
   "cell_type": "code",
   "execution_count": 120,
   "metadata": {},
   "outputs": [
    {
     "data": {
      "text/plain": [
       "<tf.Tensor: shape=(5,), dtype=float32, numpy=\n",
       "array([0.99999994, 0.99999994, 1.        , 1.0000001 , 0.99999994],\n",
       "      dtype=float32)>"
      ]
     },
     "execution_count": 120,
     "metadata": {},
     "output_type": "execute_result"
    }
   ],
   "source": [
    "import tensorflow as tf\n",
    "\n",
    "tf.reduce_sum(predictions_tf, axis=1)[:5]"
   ]
  },
  {
   "cell_type": "markdown",
   "metadata": {
    "collapsed": false
   },
   "source": [
    "...okay, there might be a small rounding error here and there. This is to do with how floating point numbers are represented in computers, and it's not something we need to worry about for now."
   ]
  },
  {
   "cell_type": "markdown",
   "metadata": {},
   "source": [
    "We can also extract the label with the highest probability using the tensorflow API:"
   ]
  },
  {
   "cell_type": "code",
   "execution_count": 122,
   "metadata": {},
   "outputs": [
    {
     "data": {
      "text/plain": [
       "<tf.Tensor: shape=(360,), dtype=int64, numpy=\n",
       "array([6, 9, 3, 7, 2, 1, 5, 2, 5, 2, 1, 4, 4, 0, 4, 2, 3, 7, 8, 8, 4, 3,\n",
       "       9, 7, 5, 6, 3, 5, 6, 3, 4, 9, 1, 4, 4, 6, 9, 4, 7, 6, 6, 9, 1, 3,\n",
       "       6, 1, 3, 0, 6, 5, 5, 1, 9, 5, 6, 0, 9, 0, 0, 1, 0, 4, 5, 2, 4, 5,\n",
       "       7, 0, 7, 5, 9, 5, 5, 4, 7, 0, 4, 5, 5, 9, 9, 0, 2, 3, 8, 0, 6, 4,\n",
       "       4, 9, 1, 2, 8, 3, 5, 2, 9, 4, 4, 4, 4, 3, 5, 3, 1, 3, 5, 9, 4, 2,\n",
       "       7, 7, 4, 4, 1, 9, 2, 7, 8, 7, 2, 6, 9, 4, 0, 7, 2, 7, 5, 8, 7, 5,\n",
       "       7, 9, 0, 6, 6, 4, 2, 8, 0, 9, 4, 6, 9, 9, 6, 9, 0, 5, 5, 6, 6, 0,\n",
       "       6, 4, 3, 9, 3, 4, 7, 2, 9, 0, 4, 5, 3, 6, 5, 9, 9, 8, 4, 2, 1, 3,\n",
       "       7, 7, 2, 2, 3, 9, 8, 0, 3, 2, 2, 5, 6, 9, 9, 4, 1, 2, 4, 2, 3, 6,\n",
       "       4, 8, 5, 9, 5, 7, 1, 9, 4, 8, 1, 5, 4, 4, 9, 6, 1, 8, 6, 0, 4, 5,\n",
       "       2, 7, 4, 6, 4, 5, 6, 0, 3, 2, 3, 6, 7, 1, 9, 1, 4, 7, 6, 5, 8, 5,\n",
       "       5, 1, 5, 2, 8, 8, 9, 5, 7, 6, 2, 2, 2, 3, 4, 8, 8, 3, 6, 0, 3, 7,\n",
       "       7, 0, 1, 0, 4, 5, 1, 5, 3, 6, 0, 4, 1, 0, 0, 3, 6, 5, 9, 7, 3, 5,\n",
       "       5, 9, 9, 8, 5, 3, 3, 2, 0, 5, 8, 3, 4, 0, 2, 4, 6, 4, 3, 4, 5, 0,\n",
       "       5, 2, 1, 3, 1, 4, 1, 1, 7, 0, 1, 5, 2, 1, 2, 8, 7, 0, 6, 4, 8, 8,\n",
       "       5, 1, 8, 4, 5, 8, 7, 9, 8, 6, 0, 6, 2, 0, 7, 9, 8, 9, 5, 2, 7, 7,\n",
       "       1, 8, 7, 4, 3, 8, 3, 5], dtype=int64)>"
      ]
     },
     "execution_count": 122,
     "metadata": {},
     "output_type": "execute_result"
    }
   ],
   "source": [
    "predicted_labels_tf = tf.argmax(predictions_tf, axis=1)\n",
    "predicted_labels_tf"
   ]
  },
  {
   "cell_type": "markdown",
   "metadata": {
    "collapsed": false
   },
   "source": [
    "One helpful aspect of this approach is that we don't just get the prediction, but also a sense of how confident the model is in its prediction. To see this in practice, let's take a look at some of the predictions the model is highly confident about (i.e. a lot of the probability mass is on one class):"
   ]
  },
  {
   "cell_type": "code",
   "execution_count": 123,
   "metadata": {
    "collapsed": false
   },
   "outputs": [
    {
     "data": {
      "image/png": "[encoded data removed]",
      "text/plain": [
       "<Figure size 600x600 with 9 Axes>"
      ]
     },
     "metadata": {},
     "output_type": "display_data"
    }
   ],
   "source": [
    "# Get the values corresponding to the predicted labels for each sample\n",
    "predicted_values_tf = tf.reduce_max(predictions_tf, axis=1)\n",
    "\n",
    "# Get the indices of the samples with the highest predicted values\n",
    "most_confident_indices_tf = tf.argsort(predicted_values_tf, direction='DESCENDING').numpy()[:9]\n",
    "\n",
    "# Get the 9 most confident samples\n",
    "most_confident_samples_tf = X_test[most_confident_indices_tf]\n",
    "\n",
    "# Get the true labels for the 9 most confident samples\n",
    "most_confident_labels_tf = np.argmax(y_test[most_confident_indices_tf], axis=1)\n",
    "\n",
    "# Plot the 9 most confident samples\n",
    "fig, axes = plt.subplots(3, 3, figsize=(6, 6))\n",
    "\n",
    "for i, ax in enumerate(axes.flat):\n",
    "    ax.imshow(most_confident_samples_tf[i].reshape(8, 8), cmap=plt.cm.gray_r, interpolation='nearest')\n",
    "    ax.set_title(f\"{most_confident_labels_tf[i]}\")\n",
    "\n",
    "    # Removing axis labels\n",
    "    ax.set_xticks([])\n",
    "    ax.set_yticks([])\n",
    "    \n",
    "plt.show()"
   ]
  },
  {
   "cell_type": "markdown",
   "metadata": {},
   "source": [
    "## Impact of Initialization\n",
    "\n",
    "Let's study the impact of a bad initialization when training\n",
    "a deep feed forward network.\n",
    "\n",
    "By default, Keras dense layers use the \"Glorot Uniform\" initialization\n",
    "strategy to initialize the weight matrices:\n",
    "\n",
    "- each weight coefficient is randomly sampled from [-scale, scale]\n",
    "- scale is proportional to $\\frac{1}{\\sqrt{n_{in} + n_{out}}}$\n",
    "\n",
    "This strategy is known to work well to initialize deep neural networks\n",
    "with \"tanh\" or \"relu\" activation functions and then trained with\n",
    "standard SGD.\n",
    "\n",
    "To assess the impact of initialization let us plug an alternative init\n",
    "scheme into a 2 hidden layers networks with \"tanh\" activations.\n",
    "For the sake of the example let's use normal distributed weights\n",
    "with a manually adjustable scale (standard deviation) and see the\n",
    "impact the scale value:"
   ]
  },
  {
   "cell_type": "code",
   "execution_count": 124,
   "metadata": {},
   "outputs": [],
   "source": [
    "from tensorflow.keras import initializers\n",
    "from tensorflow.keras import optimizers\n",
    "\n",
    "input_dim = 64\n",
    "hidden_dim = 64\n",
    "output_dim = 10\n",
    "\n",
    "normal_init = initializers.TruncatedNormal(stddev=0.01, seed=42)\n",
    "\n",
    "model = Sequential()\n",
    "model.add(Dense(hidden_dim, input_dim=input_dim, activation=\"tanh\",\n",
    "                kernel_initializer=normal_init))\n",
    "model.add(Dense(hidden_dim, activation=\"tanh\",\n",
    "                kernel_initializer=normal_init))\n",
    "model.add(Dense(output_dim, activation=\"softmax\",\n",
    "                kernel_initializer=normal_init))\n",
    "\n",
    "model.compile(optimizer=optimizers.SGD(learning_rate=0.1),\n",
    "              loss='categorical_crossentropy', metrics=['accuracy'])"
   ]
  },
  {
   "cell_type": "code",
   "execution_count": 125,
   "metadata": {},
   "outputs": [
    {
     "data": {
      "text/plain": [
       "[<keras.layers.core.dense.Dense at 0x266a2e49850>,\n",
       " <keras.layers.core.dense.Dense at 0x26698746610>,\n",
       " <keras.layers.core.dense.Dense at 0x266a2e493a0>]"
      ]
     },
     "execution_count": 125,
     "metadata": {},
     "output_type": "execute_result"
    }
   ],
   "source": [
    "model.layers"
   ]
  },
  {
   "cell_type": "markdown",
   "metadata": {},
   "source": [
    "Let's have a look at the parameters of the first layer after initialization but before any training has happened:"
   ]
  },
  {
   "cell_type": "code",
   "execution_count": 126,
   "metadata": {},
   "outputs": [
    {
     "data": {
      "text/plain": [
       "[<tf.Variable 'dense_46/kernel:0' shape=(64, 64) dtype=float32, numpy=\n",
       " array([[ 0.00015817, -0.01590087,  0.00103594, ...,  0.00962818,\n",
       "          0.00624957,  0.00994726],\n",
       "        [ 0.0081879 ,  0.00756818, -0.00668142, ...,  0.01084459,\n",
       "         -0.00317478, -0.00549116],\n",
       "        [-0.00086618, -0.00287623,  0.00391693, ...,  0.00064558,\n",
       "         -0.00420471,  0.00174566],\n",
       "        ...,\n",
       "        [-0.0029006 , -0.0091218 ,  0.00804327, ..., -0.01407086,\n",
       "          0.00952832, -0.01348555],\n",
       "        [ 0.00375078,  0.00967842,  0.00098119, ..., -0.00413454,\n",
       "          0.01695471,  0.00025196],\n",
       "        [ 0.00459809,  0.01223094, -0.00213172, ...,  0.01246831,\n",
       "         -0.00714749, -0.00868595]], dtype=float32)>,\n",
       " <tf.Variable 'dense_46/bias:0' shape=(64,) dtype=float32, numpy=\n",
       " array([0., 0., 0., 0., 0., 0., 0., 0., 0., 0., 0., 0., 0., 0., 0., 0., 0.,\n",
       "        0., 0., 0., 0., 0., 0., 0., 0., 0., 0., 0., 0., 0., 0., 0., 0., 0.,\n",
       "        0., 0., 0., 0., 0., 0., 0., 0., 0., 0., 0., 0., 0., 0., 0., 0., 0.,\n",
       "        0., 0., 0., 0., 0., 0., 0., 0., 0., 0., 0., 0., 0.], dtype=float32)>]"
      ]
     },
     "execution_count": 126,
     "metadata": {},
     "output_type": "execute_result"
    }
   ],
   "source": [
    "model.layers[0].weights"
   ]
  },
  {
   "cell_type": "code",
   "execution_count": 127,
   "metadata": {},
   "outputs": [
    {
     "data": {
      "text/plain": [
       "array([[ 0.00015817, -0.01590087,  0.00103594, ...,  0.00962818,\n",
       "         0.00624957,  0.00994726],\n",
       "       [ 0.0081879 ,  0.00756818, -0.00668142, ...,  0.01084459,\n",
       "        -0.00317478, -0.00549116],\n",
       "       [-0.00086618, -0.00287623,  0.00391693, ...,  0.00064558,\n",
       "        -0.00420471,  0.00174566],\n",
       "       ...,\n",
       "       [-0.0029006 , -0.0091218 ,  0.00804327, ..., -0.01407086,\n",
       "         0.00952832, -0.01348555],\n",
       "       [ 0.00375078,  0.00967842,  0.00098119, ..., -0.00413454,\n",
       "         0.01695471,  0.00025196],\n",
       "       [ 0.00459809,  0.01223094, -0.00213172, ...,  0.01246831,\n",
       "        -0.00714749, -0.00868595]], dtype=float32)"
      ]
     },
     "execution_count": 127,
     "metadata": {},
     "output_type": "execute_result"
    }
   ],
   "source": [
    "w = model.layers[0].weights[0].numpy()\n",
    "w"
   ]
  },
  {
   "cell_type": "code",
   "execution_count": 128,
   "metadata": {},
   "outputs": [
    {
     "data": {
      "text/plain": [
       "0.008835949"
      ]
     },
     "execution_count": 128,
     "metadata": {},
     "output_type": "execute_result"
    }
   ],
   "source": [
    "w.std()"
   ]
  },
  {
   "cell_type": "code",
   "execution_count": 129,
   "metadata": {},
   "outputs": [
    {
     "data": {
      "text/plain": [
       "array([0., 0., 0., 0., 0., 0., 0., 0., 0., 0., 0., 0., 0., 0., 0., 0., 0.,\n",
       "       0., 0., 0., 0., 0., 0., 0., 0., 0., 0., 0., 0., 0., 0., 0., 0., 0.,\n",
       "       0., 0., 0., 0., 0., 0., 0., 0., 0., 0., 0., 0., 0., 0., 0., 0., 0.,\n",
       "       0., 0., 0., 0., 0., 0., 0., 0., 0., 0., 0., 0., 0.], dtype=float32)"
      ]
     },
     "execution_count": 129,
     "metadata": {},
     "output_type": "execute_result"
    }
   ],
   "source": [
    "b = model.layers[0].weights[1].numpy()\n",
    "b"
   ]
  },
  {
   "cell_type": "code",
   "execution_count": 130,
   "metadata": {},
   "outputs": [
    {
     "name": "stdout",
     "output_type": "stream",
     "text": [
      "Epoch 1/15\n",
      "45/45 [==============================] - 1s 2ms/step - loss: 2.2862 - accuracy: 0.1955\n",
      "Epoch 2/15\n",
      "45/45 [==============================] - 0s 2ms/step - loss: 1.7347 - accuracy: 0.4447\n",
      "Epoch 3/15\n",
      "45/45 [==============================] - 0s 2ms/step - loss: 1.0396 - accuracy: 0.7189\n",
      "Epoch 4/15\n",
      "45/45 [==============================] - 0s 2ms/step - loss: 0.5314 - accuracy: 0.8650\n",
      "Epoch 5/15\n",
      "45/45 [==============================] - 0s 2ms/step - loss: 0.3135 - accuracy: 0.9339\n",
      "Epoch 6/15\n",
      "45/45 [==============================] - 0s 2ms/step - loss: 0.2472 - accuracy: 0.9360\n",
      "Epoch 7/15\n",
      "45/45 [==============================] - 0s 2ms/step - loss: 0.1791 - accuracy: 0.9534\n",
      "Epoch 8/15\n",
      "45/45 [==============================] - 0s 2ms/step - loss: 0.1300 - accuracy: 0.9680\n",
      "Epoch 9/15\n",
      "45/45 [==============================] - 0s 2ms/step - loss: 0.1039 - accuracy: 0.9756\n",
      "Epoch 10/15\n",
      "45/45 [==============================] - 0s 2ms/step - loss: 0.0806 - accuracy: 0.9833\n",
      "Epoch 11/15\n",
      "45/45 [==============================] - 0s 2ms/step - loss: 0.0630 - accuracy: 0.9875\n",
      "Epoch 12/15\n",
      "45/45 [==============================] - 0s 2ms/step - loss: 0.0539 - accuracy: 0.9896\n",
      "Epoch 13/15\n",
      "45/45 [==============================] - 0s 4ms/step - loss: 0.0605 - accuracy: 0.9875\n",
      "Epoch 14/15\n",
      "45/45 [==============================] - 0s 3ms/step - loss: 0.0467 - accuracy: 0.9916\n",
      "Epoch 15/15\n",
      "45/45 [==============================] - 0s 2ms/step - loss: 0.0370 - accuracy: 0.9910\n"
     ]
    },
    {
     "data": {
      "image/png": "[encoded data removed]",
      "text/plain": [
       "<Figure size 1200x400 with 1 Axes>"
      ]
     },
     "metadata": {},
     "output_type": "display_data"
    }
   ],
   "source": [
    "history = model.fit(X_train, y_train, epochs=15, batch_size=32)\n",
    "\n",
    "plt.figure(figsize=(12, 4))\n",
    "plt.plot(history.history['loss'], label=\"Truncated Normal init\")\n",
    "plt.legend();"
   ]
  },
  {
   "cell_type": "markdown",
   "metadata": {},
   "source": [
    "Once the model has been fit, the weights have been updated and notably the biases are no longer 0:"
   ]
  },
  {
   "cell_type": "code",
   "execution_count": 131,
   "metadata": {},
   "outputs": [
    {
     "data": {
      "text/plain": [
       "[<tf.Variable 'dense_46/kernel:0' shape=(64, 64) dtype=float32, numpy=\n",
       " array([[ 1.58170762e-04, -1.59008689e-02,  1.03594456e-03, ...,\n",
       "          9.62818228e-03,  6.24957308e-03,  9.94726177e-03],\n",
       "        [ 1.40077192e-02, -5.88773750e-03, -9.43647418e-03, ...,\n",
       "         -2.85508726e-02, -1.84818134e-02, -2.58645806e-02],\n",
       "        [ 4.08336446e-02, -4.53299843e-02, -7.25117028e-02, ...,\n",
       "         -2.85367146e-02, -1.08915836e-01,  8.15079212e-02],\n",
       "        ...,\n",
       "        [-6.44415943e-03, -4.22799140e-02,  1.47661567e-01, ...,\n",
       "         -7.42529333e-02,  7.24789426e-02, -1.74069390e-01],\n",
       "        [ 1.88303161e-02, -2.56279632e-02,  1.02983795e-01, ...,\n",
       "         -6.90990239e-02,  2.34346557e-02, -1.10013478e-01],\n",
       "        [ 2.45324671e-02,  2.21893564e-02,  3.61347422e-02, ...,\n",
       "          5.97245060e-02,  2.14374140e-02, -4.39193845e-02]], dtype=float32)>,\n",
       " <tf.Variable 'dense_46/bias:0' shape=(64,) dtype=float32, numpy=\n",
       " array([-3.4761590e-05, -2.0312322e-03,  1.8191475e-03, -1.4902622e-03,\n",
       "        -3.6974719e-03,  8.4922132e-05, -7.6722656e-04,  1.0236859e-04,\n",
       "        -2.6404203e-04, -1.2258651e-03,  1.5021478e-04,  5.6270887e-03,\n",
       "         1.2711177e-03,  1.4470355e-03, -1.9501422e-03, -2.7057349e-03,\n",
       "         1.5680185e-03,  3.4309726e-04, -1.7559737e-03, -1.9961209e-03,\n",
       "         1.8301871e-06, -5.4731092e-04,  2.2050171e-04,  4.3866105e-04,\n",
       "         1.9315227e-03,  9.4205112e-05, -3.3911127e-03, -2.8817565e-03,\n",
       "         2.4344875e-03,  5.0666992e-04,  4.1767801e-03,  1.1832520e-03,\n",
       "         5.4854131e-04,  2.2743533e-03, -1.9565949e-03, -4.8440669e-04,\n",
       "         5.1029987e-04,  8.8515237e-04, -1.2018206e-03, -1.4432351e-03,\n",
       "         1.8577699e-03,  5.6485896e-04,  1.3253394e-03,  6.7133922e-04,\n",
       "         2.6155032e-05,  3.3071014e-04,  1.7554472e-03, -9.5460610e-04,\n",
       "         1.1684468e-03,  1.0571847e-03, -5.7991096e-03,  9.1813336e-04,\n",
       "        -5.4057869e-03, -1.0461143e-03, -4.1795825e-03, -4.0199342e-03,\n",
       "         6.4356386e-04,  6.5169291e-04,  1.4186393e-03, -6.6673871e-05,\n",
       "         1.6606958e-03,  2.7517352e-04, -4.1541094e-03,  1.9426602e-03],\n",
       "       dtype=float32)>]"
      ]
     },
     "execution_count": 131,
     "metadata": {},
     "output_type": "execute_result"
    }
   ],
   "source": [
    "model.layers[0].weights"
   ]
  },
  {
   "cell_type": "markdown",
   "metadata": {},
   "source": [
    "#### Questions:\n",
    "\n",
    "- Try the following initialization schemes and see whether\n",
    "  the SGD algorithm can successfully train the network or\n",
    "  not:\n",
    "  \n",
    "  - a very small e.g. `stddev=1e-3`\n",
    "  - a larger scale e.g. `stddev=1` or `10`\n",
    "  - initialize all weights to 0 (constant initialization)\n",
    "  \n",
    "- What do you observe? Can you find an explanation for those\n",
    "  outcomes?\n",
    "\n",
    "- Are more advanced solvers such as SGD with momentum or Adam able\n",
    "  to deal better with such bad initializations?"
   ]
  },
  {
   "cell_type": "code",
   "execution_count": 143,
   "metadata": {},
   "outputs": [
    {
     "name": "stdout",
     "output_type": "stream",
     "text": [
      "[<tf.Variable 'dense_55/kernel:0' shape=(64, 64) dtype=float32, numpy=\n",
      "array([[ 1.58170769e-05, -1.59008696e-03,  1.03594466e-04, ...,\n",
      "         9.62818274e-04,  6.24957378e-04,  9.94726201e-04],\n",
      "       [ 8.18789878e-04,  7.56817637e-04, -6.68141816e-04, ...,\n",
      "         1.08445948e-03, -3.17478436e-04, -5.49116055e-04],\n",
      "       [-8.66180999e-05, -2.87622679e-04,  3.91692913e-04, ...,\n",
      "         6.45583350e-05, -4.20471217e-04,  1.74565779e-04],\n",
      "       ...,\n",
      "       [-2.90059572e-04, -9.12180112e-04,  8.04327196e-04, ...,\n",
      "        -1.40708557e-03,  9.52831702e-04, -1.34855497e-03],\n",
      "       [ 3.75078467e-04,  9.67841595e-04,  9.81185003e-05, ...,\n",
      "        -4.13453788e-04,  1.69547147e-03,  2.51959373e-05],\n",
      "       [ 4.59809438e-04,  1.22309395e-03, -2.13172083e-04, ...,\n",
      "         1.24683115e-03, -7.14749156e-04, -8.68594740e-04]], dtype=float32)>, <tf.Variable 'dense_55/bias:0' shape=(64,) dtype=float32, numpy=\n",
      "array([0., 0., 0., 0., 0., 0., 0., 0., 0., 0., 0., 0., 0., 0., 0., 0., 0.,\n",
      "       0., 0., 0., 0., 0., 0., 0., 0., 0., 0., 0., 0., 0., 0., 0., 0., 0.,\n",
      "       0., 0., 0., 0., 0., 0., 0., 0., 0., 0., 0., 0., 0., 0., 0., 0., 0.,\n",
      "       0., 0., 0., 0., 0., 0., 0., 0., 0., 0., 0., 0., 0.], dtype=float32)>]\n",
      "0.000883595\n",
      "Epoch 1/15\n",
      "45/45 [==============================] - 1s 3ms/step - loss: 2.3037 - accuracy: 0.0946\n",
      "Epoch 2/15\n",
      "45/45 [==============================] - 0s 2ms/step - loss: 2.3033 - accuracy: 0.1037\n",
      "Epoch 3/15\n",
      "45/45 [==============================] - 0s 2ms/step - loss: 2.3031 - accuracy: 0.1044\n",
      "Epoch 4/15\n",
      "45/45 [==============================] - 0s 2ms/step - loss: 2.3032 - accuracy: 0.0912\n",
      "Epoch 5/15\n",
      "45/45 [==============================] - 0s 2ms/step - loss: 2.3030 - accuracy: 0.1072\n",
      "Epoch 6/15\n",
      "45/45 [==============================] - 0s 5ms/step - loss: 2.3030 - accuracy: 0.1072\n",
      "Epoch 7/15\n",
      "45/45 [==============================] - 0s 2ms/step - loss: 2.3032 - accuracy: 0.1037\n",
      "Epoch 8/15\n",
      "45/45 [==============================] - 0s 2ms/step - loss: 2.3031 - accuracy: 0.1072\n",
      "Epoch 9/15\n",
      "45/45 [==============================] - 0s 2ms/step - loss: 2.3017 - accuracy: 0.1072\n",
      "Epoch 10/15\n",
      "45/45 [==============================] - 0s 2ms/step - loss: 2.1129 - accuracy: 0.1969\n",
      "Epoch 11/15\n",
      "45/45 [==============================] - 0s 2ms/step - loss: 1.8334 - accuracy: 0.1907\n",
      "Epoch 12/15\n",
      "45/45 [==============================] - 0s 2ms/step - loss: 1.6524 - accuracy: 0.2637\n",
      "Epoch 13/15\n",
      "45/45 [==============================] - 0s 2ms/step - loss: 1.4157 - accuracy: 0.3793\n",
      "Epoch 14/15\n",
      "45/45 [==============================] - 0s 2ms/step - loss: 1.2499 - accuracy: 0.4955\n",
      "Epoch 15/15\n",
      "45/45 [==============================] - 0s 2ms/step - loss: 0.9694 - accuracy: 0.6186\n"
     ]
    },
    {
     "data": {
      "image/png": "[encoded data removed]",
      "text/plain": [
       "<Figure size 1200x400 with 1 Axes>"
      ]
     },
     "metadata": {},
     "output_type": "display_data"
    }
   ],
   "source": [
    "# Your code here `stddev=1e-3`\n",
    "input_dim = 64\n",
    "hidden_dim = 64\n",
    "output_dim = 10\n",
    "normal_init = initializers.TruncatedNormal(stddev=1e-3, seed=42)\n",
    "\n",
    "model = Sequential()\n",
    "model.add(Dense(hidden_dim, input_dim=input_dim, activation=\"tanh\",\n",
    "                kernel_initializer=normal_init))\n",
    "model.add(Dense(hidden_dim, activation=\"tanh\",\n",
    "                kernel_initializer=normal_init))\n",
    "model.add(Dense(output_dim, activation=\"softmax\",\n",
    "                kernel_initializer=normal_init))\n",
    "\n",
    "model.compile(optimizer=optimizers.SGD(learning_rate=0.1),\n",
    "              loss='categorical_crossentropy', metrics=['accuracy'])\n",
    "\n",
    "\n",
    "print ( model.layers[0].weights, end=\"\\n\" )\n",
    "print( model.layers[0].weights[0].numpy().std())\n",
    "\n",
    "history = model.fit(X_train, y_train, epochs=15, batch_size=32)\n",
    "\n",
    "plt.figure(figsize=(12, 4))\n",
    "plt.plot(history.history['loss'], label=\"Truncated Normal init\")\n",
    "plt.legend();"
   ]
  },
  {
   "cell_type": "code",
   "execution_count": 144,
   "metadata": {},
   "outputs": [
    {
     "data": {
      "text/plain": [
       "[<tf.Variable 'dense_55/kernel:0' shape=(64, 64) dtype=float32, numpy=\n",
       " array([[ 1.58170769e-05, -1.59008696e-03,  1.03594466e-04, ...,\n",
       "          9.62818274e-04,  6.24957378e-04,  9.94726201e-04],\n",
       "        [ 5.48702758e-03,  1.12766623e-02,  4.39289818e-03, ...,\n",
       "          4.64460609e-04, -1.05647491e-02, -5.39885485e-04],\n",
       "        [ 4.34096716e-02,  6.04958497e-02,  2.94279354e-03, ...,\n",
       "         -7.82633759e-03, -2.89889742e-02,  1.42693073e-02],\n",
       "        ...,\n",
       "        [ 4.65675537e-03, -1.43735064e-02, -4.79344651e-03, ...,\n",
       "         -9.52838268e-03, -6.66215047e-02, -4.30841465e-03],\n",
       "        [ 4.13261494e-03,  1.03837810e-03,  6.76275755e-04, ...,\n",
       "         -6.53488236e-03, -3.92309017e-02, -1.06201489e-02],\n",
       "        [ 1.80078093e-02, -3.41493078e-02, -2.41041258e-02, ...,\n",
       "         -4.42109210e-03,  9.00966302e-03,  1.82820484e-02]], dtype=float32)>,\n",
       " <tf.Variable 'dense_55/bias:0' shape=(64,) dtype=float32, numpy=\n",
       " array([-3.05888971e-04,  1.83259707e-03, -6.16609061e-04, -1.80882961e-03,\n",
       "        -5.12488885e-04,  1.06533844e-04, -1.75788955e-05, -6.23580476e-04,\n",
       "         4.26493789e-04, -4.87831829e-04,  5.71286771e-04, -2.46805375e-05,\n",
       "        -7.17696821e-05,  1.07251399e-04,  1.37298566e-03,  1.88492972e-03,\n",
       "        -7.26071477e-04,  7.05857936e-04, -8.68879200e-04,  7.45934027e-04,\n",
       "         2.69528595e-04, -3.53399431e-04, -1.16746710e-03,  1.84018142e-03,\n",
       "         2.30853376e-03,  2.72008288e-03, -2.07745424e-03, -2.98287559e-05,\n",
       "        -7.94544641e-04, -1.51149594e-04,  2.45859846e-03,  2.37806444e-03,\n",
       "         3.48292291e-04,  9.06047280e-05, -1.04982825e-03, -6.76392112e-04,\n",
       "         2.25701695e-03, -5.85771864e-04, -1.50181493e-03, -1.22264749e-03,\n",
       "         9.56422300e-04, -7.80689297e-04,  2.25687725e-03,  5.05742151e-04,\n",
       "        -8.89467658e-04,  1.88889739e-03,  2.04841536e-03,  2.44770129e-03,\n",
       "        -2.45299074e-03,  9.74806841e-04, -1.67200435e-03, -2.12122174e-03,\n",
       "        -1.39386696e-03,  2.22631264e-03,  2.49669747e-03,  1.80813461e-03,\n",
       "         2.27698521e-03, -9.64569626e-05,  2.98961112e-03, -1.67610233e-05,\n",
       "        -3.06754117e-03,  1.04524277e-03,  2.17134412e-03,  1.81327705e-04],\n",
       "       dtype=float32)>]"
      ]
     },
     "execution_count": 144,
     "metadata": {},
     "output_type": "execute_result"
    }
   ],
   "source": [
    "model.layers[0].weights"
   ]
  },
  {
   "cell_type": "code",
   "execution_count": 145,
   "metadata": {},
   "outputs": [
    {
     "name": "stdout",
     "output_type": "stream",
     "text": [
      "[<tf.Variable 'dense_58/kernel:0' shape=(64, 64) dtype=float32, numpy=\n",
      "array([[ 1.58170769e-05, -1.59008696e-03,  1.03594466e-04, ...,\n",
      "         9.62818274e-04,  6.24957378e-04,  9.94726201e-04],\n",
      "       [ 8.18789878e-04,  7.56817637e-04, -6.68141816e-04, ...,\n",
      "         1.08445948e-03, -3.17478436e-04, -5.49116055e-04],\n",
      "       [-8.66180999e-05, -2.87622679e-04,  3.91692913e-04, ...,\n",
      "         6.45583350e-05, -4.20471217e-04,  1.74565779e-04],\n",
      "       ...,\n",
      "       [-2.90059572e-04, -9.12180112e-04,  8.04327196e-04, ...,\n",
      "        -1.40708557e-03,  9.52831702e-04, -1.34855497e-03],\n",
      "       [ 3.75078467e-04,  9.67841595e-04,  9.81185003e-05, ...,\n",
      "        -4.13453788e-04,  1.69547147e-03,  2.51959373e-05],\n",
      "       [ 4.59809438e-04,  1.22309395e-03, -2.13172083e-04, ...,\n",
      "         1.24683115e-03, -7.14749156e-04, -8.68594740e-04]], dtype=float32)>, <tf.Variable 'dense_58/bias:0' shape=(64,) dtype=float32, numpy=\n",
      "array([0., 0., 0., 0., 0., 0., 0., 0., 0., 0., 0., 0., 0., 0., 0., 0., 0.,\n",
      "       0., 0., 0., 0., 0., 0., 0., 0., 0., 0., 0., 0., 0., 0., 0., 0., 0.,\n",
      "       0., 0., 0., 0., 0., 0., 0., 0., 0., 0., 0., 0., 0., 0., 0., 0., 0.,\n",
      "       0., 0., 0., 0., 0., 0., 0., 0., 0., 0., 0., 0., 0.], dtype=float32)>]\n",
      "0.000883595\n",
      "Epoch 1/15\n",
      "45/45 [==============================] - 1s 2ms/step - loss: 2.3037 - accuracy: 0.0786\n",
      "Epoch 2/15\n",
      "45/45 [==============================] - 0s 3ms/step - loss: 2.3033 - accuracy: 0.1009\n",
      "Epoch 3/15\n",
      "45/45 [==============================] - 0s 2ms/step - loss: 2.3033 - accuracy: 0.1065\n",
      "Epoch 4/15\n",
      "45/45 [==============================] - 0s 2ms/step - loss: 2.3030 - accuracy: 0.0953\n",
      "Epoch 5/15\n",
      "45/45 [==============================] - 0s 2ms/step - loss: 2.3031 - accuracy: 0.1051\n",
      "Epoch 6/15\n",
      "45/45 [==============================] - 0s 2ms/step - loss: 2.3031 - accuracy: 0.1044\n",
      "Epoch 7/15\n",
      "45/45 [==============================] - 0s 2ms/step - loss: 2.3033 - accuracy: 0.1009\n",
      "Epoch 8/15\n",
      "45/45 [==============================] - 0s 2ms/step - loss: 2.3028 - accuracy: 0.1072\n",
      "Epoch 9/15\n",
      "45/45 [==============================] - 0s 2ms/step - loss: 2.3018 - accuracy: 0.1072\n",
      "Epoch 10/15\n",
      "45/45 [==============================] - 0s 3ms/step - loss: 2.1201 - accuracy: 0.1768\n",
      "Epoch 11/15\n",
      "45/45 [==============================] - 0s 2ms/step - loss: 1.7925 - accuracy: 0.2046\n",
      "Epoch 12/15\n",
      "45/45 [==============================] - 0s 2ms/step - loss: 1.6635 - accuracy: 0.2763\n",
      "Epoch 13/15\n",
      "45/45 [==============================] - 0s 2ms/step - loss: 1.4926 - accuracy: 0.3354\n",
      "Epoch 14/15\n",
      "45/45 [==============================] - 0s 2ms/step - loss: 1.2213 - accuracy: 0.4711\n",
      "Epoch 15/15\n",
      "45/45 [==============================] - 0s 2ms/step - loss: 0.9427 - accuracy: 0.6541\n"
     ]
    },
    {
     "data": {
      "image/png": "[encoded data removed]",
      "text/plain": [
       "<Figure size 1200x400 with 1 Axes>"
      ]
     },
     "metadata": {},
     "output_type": "display_data"
    }
   ],
   "source": [
    "# Your code here ``stddev=1`\n",
    "input_dim = 64\n",
    "hidden_dim = 64\n",
    "output_dim = 10\n",
    "normal_init = initializers.TruncatedNormal(stddev=1e-3, seed=42)\n",
    "\n",
    "model = Sequential()\n",
    "model.add(Dense(hidden_dim, input_dim=input_dim, activation=\"tanh\",\n",
    "                kernel_initializer=normal_init))\n",
    "model.add(Dense(hidden_dim, activation=\"tanh\",\n",
    "                kernel_initializer=normal_init))\n",
    "model.add(Dense(output_dim, activation=\"softmax\",\n",
    "                kernel_initializer=normal_init))\n",
    "\n",
    "model.compile(optimizer=optimizers.SGD(learning_rate=0.1),\n",
    "              loss='categorical_crossentropy', metrics=['accuracy'])\n",
    "\n",
    "\n",
    "print ( model.layers[0].weights, end=\"\\n\" )\n",
    "print( model.layers[0].weights[0].numpy().std())\n",
    "\n",
    "history = model.fit(X_train, y_train, epochs=15, batch_size=32)\n",
    "\n",
    "plt.figure(figsize=(12, 4))\n",
    "plt.plot(history.history['loss'], label=\"Truncated Normal init\")\n",
    "plt.legend();"
   ]
  },
  {
   "cell_type": "code",
   "execution_count": 146,
   "metadata": {},
   "outputs": [
    {
     "data": {
      "text/plain": [
       "[<tf.Variable 'dense_58/kernel:0' shape=(64, 64) dtype=float32, numpy=\n",
       " array([[ 1.58170769e-05, -1.59008696e-03,  1.03594466e-04, ...,\n",
       "          9.62818274e-04,  6.24957378e-04,  9.94726201e-04],\n",
       "        [ 5.97381499e-03,  4.62994765e-04, -6.53243670e-03, ...,\n",
       "         -5.84229222e-03,  8.69155338e-04, -9.95639153e-03],\n",
       "        [ 5.46350963e-02, -1.05259307e-02, -7.37232491e-02, ...,\n",
       "         -3.13768573e-02, -5.93206286e-03, -2.15999447e-02],\n",
       "        ...,\n",
       "        [-1.27070881e-02, -9.30390228e-03,  1.01619042e-01, ...,\n",
       "         -3.23908292e-02, -1.09097427e-02, -5.05943112e-02],\n",
       "        [ 7.46265519e-03,  7.86778610e-03,  6.78576604e-02, ...,\n",
       "         -2.21391227e-02,  1.68510410e-03, -2.72400137e-02],\n",
       "        [ 1.36283888e-02, -6.00612722e-03,  2.40663178e-02, ...,\n",
       "          4.22988273e-03, -3.10057052e-03,  1.02697564e-02]], dtype=float32)>,\n",
       " <tf.Variable 'dense_58/bias:0' shape=(64,) dtype=float32, numpy=\n",
       " array([ 3.98290693e-04, -1.34996802e-03, -1.04481366e-03,  3.09562602e-04,\n",
       "        -2.14879960e-03, -1.60800118e-06,  4.21230070e-04, -1.57563845e-04,\n",
       "         2.51854945e-05,  2.91186327e-04,  2.32023012e-06,  1.64339464e-04,\n",
       "        -4.59727482e-04,  1.91881240e-03, -2.19016126e-03, -1.03134988e-03,\n",
       "         5.55635372e-04, -5.08915458e-04,  3.68013250e-04,  2.44375272e-03,\n",
       "        -6.71398360e-04, -1.85456607e-04, -1.00837136e-03,  2.29928410e-03,\n",
       "         7.43759330e-04,  5.47017728e-04, -1.71145395e-04,  1.14925744e-04,\n",
       "        -3.77461751e-04, -7.16475246e-04, -2.22254032e-03, -8.49042670e-04,\n",
       "         1.15890725e-05, -2.91958859e-05, -1.75028760e-03,  1.07080035e-04,\n",
       "         2.15775124e-03, -2.83451576e-04,  8.67926574e-04,  2.68945307e-03,\n",
       "        -1.34133431e-03,  4.56877053e-04,  1.75861525e-03, -1.22149067e-05,\n",
       "        -2.14691414e-03,  2.07108585e-03,  1.93547818e-03,  2.10977858e-03,\n",
       "        -7.94861582e-04,  2.19647889e-03, -9.12343385e-04,  2.78561423e-03,\n",
       "        -1.11275073e-03, -2.58738082e-03,  1.30901393e-03,  2.31957834e-04,\n",
       "         1.95864774e-03, -2.85927963e-04,  5.60643035e-04,  2.26016738e-04,\n",
       "        -5.53137797e-04,  3.07448674e-03,  1.16266240e-03,  2.31678272e-03],\n",
       "       dtype=float32)>]"
      ]
     },
     "execution_count": 146,
     "metadata": {},
     "output_type": "execute_result"
    }
   ],
   "source": [
    "model.layers[0].weights"
   ]
  },
  {
   "cell_type": "code",
   "execution_count": 160,
   "metadata": {},
   "outputs": [
    {
     "name": "stdout",
     "output_type": "stream",
     "text": [
      "[<tf.Variable 'dense_83/kernel:0' shape=(64, 64) dtype=float32, numpy=\n",
      "array([[  0.15817076, -15.900869  ,   1.0359446 , ...,   9.628182  ,\n",
      "          6.249573  ,   9.947262  ],\n",
      "       [  8.187899  ,   7.568176  ,  -6.681418  , ...,  10.844594  ,\n",
      "         -3.1747842 ,  -5.4911604 ],\n",
      "       [ -0.86618096,  -2.8762267 ,   3.916929  , ...,   0.64558333,\n",
      "         -4.204712  ,   1.7456578 ],\n",
      "       ...,\n",
      "       [ -2.9005957 ,  -9.1218    ,   8.043271  , ..., -14.070855  ,\n",
      "          9.5283165 , -13.485548  ],\n",
      "       [  3.7507844 ,   9.678415  ,   0.98118496, ...,  -4.1345377 ,\n",
      "         16.954714  ,   0.25195935],\n",
      "       [  4.598094  ,  12.230939  ,  -2.1317208 , ...,  12.46831   ,\n",
      "         -7.147491  ,  -8.685947  ]], dtype=float32)>, <tf.Variable 'dense_83/bias:0' shape=(64,) dtype=float32, numpy=\n",
      "array([0., 0., 0., 0., 0., 0., 0., 0., 0., 0., 0., 0., 0., 0., 0., 0., 0.,\n",
      "       0., 0., 0., 0., 0., 0., 0., 0., 0., 0., 0., 0., 0., 0., 0., 0., 0.,\n",
      "       0., 0., 0., 0., 0., 0., 0., 0., 0., 0., 0., 0., 0., 0., 0., 0., 0.,\n",
      "       0., 0., 0., 0., 0., 0., 0., 0., 0., 0., 0., 0., 0.], dtype=float32)>]\n",
      "8.83595\n",
      "Epoch 1/15\n",
      "45/45 [==============================] - 1s 2ms/step - loss: 85.5895 - accuracy: 0.1413\n",
      "Epoch 2/15\n",
      "45/45 [==============================] - 0s 2ms/step - loss: 58.1230 - accuracy: 0.1503\n",
      "Epoch 3/15\n",
      "45/45 [==============================] - 0s 3ms/step - loss: 44.0509 - accuracy: 0.1949\n",
      "Epoch 4/15\n",
      "45/45 [==============================] - 0s 2ms/step - loss: 35.0343 - accuracy: 0.2241\n",
      "Epoch 5/15\n",
      "45/45 [==============================] - 0s 2ms/step - loss: 32.0161 - accuracy: 0.2491\n",
      "Epoch 6/15\n",
      "45/45 [==============================] - 0s 2ms/step - loss: 39.9100 - accuracy: 0.2262\n",
      "Epoch 7/15\n",
      "45/45 [==============================] - 0s 3ms/step - loss: 32.8249 - accuracy: 0.2129\n",
      "Epoch 8/15\n",
      "45/45 [==============================] - 0s 2ms/step - loss: 27.8682 - accuracy: 0.2164\n",
      "Epoch 9/15\n",
      "45/45 [==============================] - 0s 5ms/step - loss: 21.7013 - accuracy: 0.2129\n",
      "Epoch 10/15\n",
      "45/45 [==============================] - 0s 3ms/step - loss: 18.4643 - accuracy: 0.2241\n",
      "Epoch 11/15\n",
      "45/45 [==============================] - 0s 2ms/step - loss: 16.3930 - accuracy: 0.2331\n",
      "Epoch 12/15\n",
      "45/45 [==============================] - 0s 2ms/step - loss: 16.8796 - accuracy: 0.2255\n",
      "Epoch 13/15\n",
      "45/45 [==============================] - 0s 2ms/step - loss: 19.4455 - accuracy: 0.2568\n",
      "Epoch 14/15\n",
      "45/45 [==============================] - 0s 2ms/step - loss: 23.8786 - accuracy: 0.2039\n",
      "Epoch 15/15\n",
      "45/45 [==============================] - 0s 2ms/step - loss: 23.9978 - accuracy: 0.1663\n"
     ]
    },
    {
     "data": {
      "image/png": "[encoded data removed]",
      "text/plain": [
       "<Figure size 1200x400 with 1 Axes>"
      ]
     },
     "metadata": {},
     "output_type": "display_data"
    }
   ],
   "source": [
    "# Your code here ``stddev=1`\n",
    "input_dim = 64\n",
    "hidden_dim = 64\n",
    "output_dim = 10\n",
    "normal_init = initializers.TruncatedNormal(stddev=10, seed=42)\n",
    "\n",
    "model = Sequential()\n",
    "model.add(Dense(hidden_dim, input_dim=input_dim, activation=\"tanh\",\n",
    "                kernel_initializer=normal_init))\n",
    "model.add(Dense(hidden_dim, activation=\"tanh\",\n",
    "                kernel_initializer=normal_init))\n",
    "model.add(Dense(output_dim, activation=\"softmax\",\n",
    "                kernel_initializer=normal_init))\n",
    "\n",
    "model.compile(optimizer=optimizers.SGD(learning_rate=0.1),\n",
    "              loss='categorical_crossentropy', metrics=['accuracy'])\n",
    "\n",
    "\n",
    "print ( model.layers[0].weights, end=\"\\n\" )\n",
    "print( model.layers[0].weights[0].numpy().std())\n",
    "\n",
    "history = model.fit(X_train, y_train, epochs=15, batch_size=32)\n",
    "\n",
    "plt.figure(figsize=(12, 4))\n",
    "plt.plot(history.history['loss'], label=\"Truncated Normal init\")\n",
    "plt.legend();"
   ]
  },
  {
   "cell_type": "code",
   "execution_count": 148,
   "metadata": {},
   "outputs": [
    {
     "data": {
      "text/plain": [
       "[<tf.Variable 'dense_61/kernel:0' shape=(64, 64) dtype=float32, numpy=\n",
       " array([[  0.15817076, -15.900869  ,   1.0359446 , ...,   9.628182  ,\n",
       "           6.249573  ,   9.947262  ],\n",
       "        [  8.187899  ,   7.568176  ,  -6.681418  , ...,  10.844594  ,\n",
       "          -3.0986638 ,  -5.4913483 ],\n",
       "        [ -1.4299397 ,  -2.865861  ,   3.9169447 , ...,   0.64558333,\n",
       "          -3.8929944 ,   1.8043988 ],\n",
       "        ...,\n",
       "        [ -3.5980124 , -13.864717  ,   8.043271  , ..., -14.070855  ,\n",
       "           9.759073  , -12.593937  ],\n",
       "        [  3.6887891 ,   7.754936  ,   0.98118496, ...,  -4.1345377 ,\n",
       "          16.955332  ,   0.8328634 ],\n",
       "        [  4.5909395 ,  12.24649   ,  -2.1317208 , ...,  12.46831   ,\n",
       "          -7.147491  ,  -8.772063  ]], dtype=float32)>,\n",
       " <tf.Variable 'dense_61/bias:0' shape=(64,) dtype=float32, numpy=\n",
       " array([-9.40611064e-02, -4.37610269e-01,  1.73278909e-06,  3.69824469e-01,\n",
       "         2.04683244e-01,  6.82632864e-01, -3.66743922e-01, -2.75197513e-02,\n",
       "         8.06285143e-02,  0.00000000e+00, -3.80549997e-01, -5.59249997e-01,\n",
       "         2.39788834e-02, -1.33755733e-04,  1.84645352e-03,  5.21252938e-02,\n",
       "         2.48952627e-01,  0.00000000e+00, -5.89128911e-01,  3.54595721e-01,\n",
       "        -3.34807962e-01, -3.02087772e-03,  2.21226141e-01, -1.14705361e-01,\n",
       "         2.94142693e-01, -1.19919052e-04,  4.83972341e-01, -2.18288854e-01,\n",
       "         3.44532669e-01,  1.04840919e-01,  3.08321178e-01, -3.70957524e-01,\n",
       "         8.51531164e-04,  6.14447534e-01, -4.04191434e-01,  7.62065127e-02,\n",
       "         4.59690653e-02, -7.59924725e-02,  5.65787375e-01,  2.33543724e-01,\n",
       "        -1.71285644e-01,  3.03966850e-01,  6.74389973e-02,  3.77339274e-01,\n",
       "        -2.87781864e-01,  0.00000000e+00, -5.59776202e-02,  2.96267997e-02,\n",
       "         0.00000000e+00, -1.52313337e-01, -3.53061378e-01, -1.23664714e-01,\n",
       "         1.70241401e-01, -2.36511037e-01,  2.18826503e-01, -5.24014235e-01,\n",
       "         1.68427661e-01,  3.34787406e-02, -1.52156800e-01, -3.96539629e-01,\n",
       "         0.00000000e+00,  0.00000000e+00,  3.48250456e-02,  3.01208906e-02],\n",
       "       dtype=float32)>]"
      ]
     },
     "execution_count": 148,
     "metadata": {},
     "output_type": "execute_result"
    }
   ],
   "source": [
    "model.layers[0].weights"
   ]
  },
  {
   "cell_type": "code",
   "execution_count": 157,
   "metadata": {},
   "outputs": [
    {
     "name": "stdout",
     "output_type": "stream",
     "text": [
      "[<tf.Variable 'dense_74/kernel:0' shape=(64, 64) dtype=float32, numpy=\n",
      "array([[0., 0., 0., ..., 0., 0., 0.],\n",
      "       [0., 0., 0., ..., 0., 0., 0.],\n",
      "       [0., 0., 0., ..., 0., 0., 0.],\n",
      "       ...,\n",
      "       [0., 0., 0., ..., 0., 0., 0.],\n",
      "       [0., 0., 0., ..., 0., 0., 0.],\n",
      "       [0., 0., 0., ..., 0., 0., 0.]], dtype=float32)>, <tf.Variable 'dense_74/bias:0' shape=(64,) dtype=float32, numpy=\n",
      "array([0., 0., 0., 0., 0., 0., 0., 0., 0., 0., 0., 0., 0., 0., 0., 0., 0.,\n",
      "       0., 0., 0., 0., 0., 0., 0., 0., 0., 0., 0., 0., 0., 0., 0., 0., 0.,\n",
      "       0., 0., 0., 0., 0., 0., 0., 0., 0., 0., 0., 0., 0., 0., 0., 0., 0.,\n",
      "       0., 0., 0., 0., 0., 0., 0., 0., 0., 0., 0., 0., 0.], dtype=float32)>]\n",
      "0.0\n",
      "Epoch 1/15\n",
      "45/45 [==============================] - 1s 2ms/step - loss: 2.3037 - accuracy: 0.0884\n",
      "Epoch 2/15\n",
      "45/45 [==============================] - 0s 2ms/step - loss: 2.3033 - accuracy: 0.0898\n",
      "Epoch 3/15\n",
      "45/45 [==============================] - 0s 3ms/step - loss: 2.3031 - accuracy: 0.1023\n",
      "Epoch 4/15\n",
      "45/45 [==============================] - 0s 3ms/step - loss: 2.3032 - accuracy: 0.1072\n",
      "Epoch 5/15\n",
      "45/45 [==============================] - 0s 5ms/step - loss: 2.3031 - accuracy: 0.1051\n",
      "Epoch 6/15\n",
      "45/45 [==============================] - 0s 3ms/step - loss: 2.3030 - accuracy: 0.1072\n",
      "Epoch 7/15\n",
      "45/45 [==============================] - 0s 3ms/step - loss: 2.3033 - accuracy: 0.1009\n",
      "Epoch 8/15\n",
      "45/45 [==============================] - 0s 2ms/step - loss: 2.3032 - accuracy: 0.1072\n",
      "Epoch 9/15\n",
      "45/45 [==============================] - 0s 2ms/step - loss: 2.3031 - accuracy: 0.1058\n",
      "Epoch 10/15\n",
      "45/45 [==============================] - 0s 2ms/step - loss: 2.3032 - accuracy: 0.1030\n",
      "Epoch 11/15\n",
      "45/45 [==============================] - 0s 2ms/step - loss: 2.3030 - accuracy: 0.1072\n",
      "Epoch 12/15\n",
      "45/45 [==============================] - 0s 2ms/step - loss: 2.3031 - accuracy: 0.1072\n",
      "Epoch 13/15\n",
      "45/45 [==============================] - 0s 2ms/step - loss: 2.3032 - accuracy: 0.1072\n",
      "Epoch 14/15\n",
      "45/45 [==============================] - 0s 2ms/step - loss: 2.3030 - accuracy: 0.1072\n",
      "Epoch 15/15\n",
      "45/45 [==============================] - 0s 2ms/step - loss: 2.3031 - accuracy: 0.1072\n"
     ]
    },
    {
     "data": {
      "image/png": "[encoded data removed]",
      "text/plain": [
       "<Figure size 1200x400 with 1 Axes>"
      ]
     },
     "metadata": {},
     "output_type": "display_data"
    }
   ],
   "source": [
    "# Your code here initialize all weights to 0 (constant initialization)\n",
    "input_dim = 64\n",
    "hidden_dim = 64\n",
    "output_dim = 10\n",
    "normal_init = initializers.Zeros()\n",
    "\n",
    "model = Sequential()\n",
    "model.add(Dense(hidden_dim, input_dim=input_dim, activation=\"tanh\",\n",
    "                kernel_initializer=normal_init))\n",
    "model.add(Dense(hidden_dim, activation=\"tanh\",\n",
    "                kernel_initializer=normal_init))\n",
    "model.add(Dense(output_dim, activation=\"softmax\",\n",
    "                kernel_initializer=normal_init))\n",
    "\n",
    "model.compile(optimizer=optimizers.SGD(learning_rate=0.1),\n",
    "              loss='categorical_crossentropy', metrics=['accuracy'])\n",
    "\n",
    "\n",
    "print ( model.layers[0].weights, end=\"\\n\" )\n",
    "print( model.layers[0].weights[0].numpy().std())\n",
    "\n",
    "history = model.fit(X_train, y_train, epochs=15, batch_size=32)\n",
    "\n",
    "plt.figure(figsize=(12, 4))\n",
    "plt.plot(history.history['loss'], label=\"Truncated Normal init\")\n",
    "plt.legend();\n"
   ]
  },
  {
   "cell_type": "code",
   "execution_count": 155,
   "metadata": {},
   "outputs": [
    {
     "data": {
      "text/plain": [
       "[<tf.Variable 'dense_68/kernel:0' shape=(64, 64) dtype=float32, numpy=\n",
       " array([[0., 0., 0., ..., 0., 0., 0.],\n",
       "        [0., 0., 0., ..., 0., 0., 0.],\n",
       "        [0., 0., 0., ..., 0., 0., 0.],\n",
       "        ...,\n",
       "        [0., 0., 0., ..., 0., 0., 0.],\n",
       "        [0., 0., 0., ..., 0., 0., 0.],\n",
       "        [0., 0., 0., ..., 0., 0., 0.]], dtype=float32)>,\n",
       " <tf.Variable 'dense_68/bias:0' shape=(64,) dtype=float32, numpy=\n",
       " array([0., 0., 0., 0., 0., 0., 0., 0., 0., 0., 0., 0., 0., 0., 0., 0., 0.,\n",
       "        0., 0., 0., 0., 0., 0., 0., 0., 0., 0., 0., 0., 0., 0., 0., 0., 0.,\n",
       "        0., 0., 0., 0., 0., 0., 0., 0., 0., 0., 0., 0., 0., 0., 0., 0., 0.,\n",
       "        0., 0., 0., 0., 0., 0., 0., 0., 0., 0., 0., 0., 0.], dtype=float32)>]"
      ]
     },
     "execution_count": 155,
     "metadata": {},
     "output_type": "execute_result"
    }
   ],
   "source": [
    "model.layers[0].weights"
   ]
  },
  {
   "cell_type": "markdown",
   "metadata": {},
   "source": [
    "Initialization has a significant impact on the model. Low number initialization leads to situations where we hardly move from the initialized (start) point, while high values lead to very big losses from the start. Zero initialization doesn't give the model a chance to get closer to the target. A similar behavior is observed with an optimizer using a linear learning rate.\n",
    "\n",
    "Are more advanced solvers such as SGD with momentum or Adam able to deal better with such bad initializations? The results can be a bit better because more advanced optimizers use more efficient algorithms. However, in general, the results will still be poor."
   ]
  },
  {
   "cell_type": "markdown",
   "metadata": {},
   "source": []
  }
 ],
 "metadata": {
  "file_extension": ".py",
  "kernelspec": {
   "display_name": "Python 3 (ipykernel)",
   "language": "python",
   "name": "python3"
  },
  "language_info": {
   "codemirror_mode": {
    "name": "ipython",
    "version": 3
   },
   "file_extension": ".py",
   "mimetype": "text/x-python",
   "name": "python",
   "nbconvert_exporter": "python",
   "pygments_lexer": "ipython3",
   "version": "3.9.15"
  },
  "mimetype": "text/x-python",
  "name": "python",
  "npconvert_exporter": "python",
  "pygments_lexer": "ipython3",
  "toc": {
   "base_numbering": 1,
   "nav_menu": {},
   "number_sections": true,
   "sideBar": true,
   "skip_h1_title": false,
   "title_cell": "Table of Contents",
   "title_sidebar": "Contents",
   "toc_cell": false,
   "toc_position": {},
   "toc_section_display": true,
   "toc_window_display": false
  },
  "version": 3
 },
 "nbformat": 4,
 "nbformat_minor": 4
}
