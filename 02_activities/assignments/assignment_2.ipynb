{
 "cells": [
  {
   "cell_type": "markdown",
   "id": "7c6788aef474ca12",
   "metadata": {
    "collapsed": false,
    "id": "7c6788aef474ca12"
   },
   "source": [
    "# Text Generation with Recurrent Neural Networks (RNNs)\n",
    "\n",
    "In this assignment, you'll build upon your understanding of RNNs and Keras to develop a word-level text generation model.  Your goal is to train a model that learns the stylistic nuances of a chosen corpus and generates new, original text segments that echo the source material's essence.\n",
    "\n",
    "**Datasets**\n",
    "\n",
    "We've provided several intriguing text corpora to get you started:\n",
    "\n",
    "*   Mark Twain\n",
    "*   Charles Dickens\n",
    "*   William Shakespeare\n",
    "\n",
    "**Feel free to explore!**  If you have a particular passion for another author, genre, or a specific text, you're encouraged to use your own dataset of raw text."
   ]
  },
  {
   "cell_type": "code",
   "execution_count": 7,
   "id": "2d0bfedcfe52aedc",
   "metadata": {
    "colab": {
     "base_uri": "https://localhost:8080/"
    },
    "id": "2d0bfedcfe52aedc",
    "outputId": "eef898b3-cf85-43d1-9715-30194b9932d3"
   },
   "outputs": [
    {
     "name": "stdout",
     "output_type": "stream",
     "text": [
      "No GPU available. If you're on Colab, go to Runtime > Change runtime and select a GPU hardware accelerator.\n"
     ]
    }
   ],
   "source": [
    "# Check if we have a GPU available\n",
    "import tensorflow as tf\n",
    "if tf.test.gpu_device_name():\n",
    "    print('Default GPU Device: {}'.format(tf.test.gpu_device_name()))\n",
    "else:\n",
    "    print(\"No GPU available. If you're on Colab, go to Runtime > Change runtime and select a GPU hardware accelerator.\")"
   ]
  },
  {
   "cell_type": "code",
   "execution_count": 8,
   "id": "f89e4ed3",
   "metadata": {},
   "outputs": [],
   "source": [
    "import os\n",
    "import numpy as np"
   ]
  },
  {
   "cell_type": "code",
   "execution_count": 9,
   "id": "9c28c497f620b775",
   "metadata": {
    "ExecuteTime": {
     "end_time": "2024-02-08T21:30:44.959803Z",
     "start_time": "2024-02-08T21:30:44.701343Z"
    },
    "id": "9c28c497f620b775"
   },
   "outputs": [],
   "source": [
    "def download_file(url, file_path):\n",
    "    import requests\n",
    "    r = requests.get(url)\n",
    "    with open(file_path, 'wb') as f:\n",
    "        f.write(r.content)\n",
    "\n",
    "def load_dataset(file_path, fraction=1.0):\n",
    "    with open(file_path, 'r', encoding='utf-8') as f:\n",
    "        raw_text = f.read()\n",
    "    return raw_text[:int(fraction * len(raw_text))]\n",
    "\n",
    "dataset = 'charles_dickens.txt' # Other options are mark_twain.txt, charles_dickens.txt\n",
    "\n",
    "path = os.path.join(os.curdir,\"downloaded_books\")\n",
    "if dataset not in os.listdir(path):\n",
    "    download_file(f'https://github.com/UofT-DSI/deep_learning/raw/main/assignments/downloaded_books/' + dataset, dataset)\n",
    "else:\n",
    "    dataset = os.path.join( path, dataset)\n",
    "\n",
    "# Load chosen dataset. NOTE: If Colab is running out of memory, change the `fraction` parameter to a value between 0 and 1 to load less data.\n",
    "text = load_dataset(dataset, fraction=0.1)"
   ]
  },
  {
   "cell_type": "markdown",
   "id": "dab51c764031e606",
   "metadata": {
    "collapsed": false,
    "id": "dab51c764031e606"
   },
   "source": [
    "# 1. Data Preparation (Complete or Incomplete)\n",
    "\n",
    "Before we can begin training an RNN model, we need to prepare the dataset. This involves cleaning the text, tokenizing words, and creating sequences the model can be trained on.\n",
    "\n",
    "## 1.1 Data Exploration\n",
    "\n",
    "Print the first 1000 characters of the dataset. Report the dataset's size and the number of unique characters it contains."
   ]
  },
  {
   "cell_type": "code",
   "execution_count": 10,
   "id": "BunkZmdkl0Wn",
   "metadata": {
    "colab": {
     "base_uri": "https://localhost:8080/"
    },
    "id": "BunkZmdkl0Wn",
    "outputId": "e429a49a-9334-4484-bd6b-2ce40c8298c1"
   },
   "outputs": [
    {
     "name": "stdout",
     "output_type": "stream",
     "text": [
      "The Project Gutenberg eBook of A Tale of Two Cities, by Charles Dickens\n",
      "\n",
      "This eBook is for the use of anyone anywhere in the United States and\n",
      "most other parts of the world at no cost and with almost no restrictions\n",
      "whatsoever. You may copy it, give it away or re-use it under the terms\n",
      "of the Project Gutenberg License included with this eBook or online at\n",
      "www.gutenberg.org. If you are not located in the United States, you\n",
      "will have to check the laws of the country where you are located before\n",
      "using this eBook.\n",
      "\n",
      "Title: A Tale of Two Cities\n",
      "       A Story of the French Revolution\n",
      "\n",
      "Author: Charles Dickens\n",
      "\n",
      "Release Date: January, 1994 [eBook #98]\n",
      "[Most recently updated: December 20, 2020]\n",
      "\n",
      "Language: English\n",
      "\n",
      "Character set encoding: UTF-8\n",
      "\n",
      "Produced by: Judith Boss and David Widger\n",
      "\n",
      "*** START OF THE PROJECT GUTENBERG EBOOK A TALE OF TWO CITIES ***\n",
      "\n",
      "\n",
      "\n",
      "\n",
      "A TALE OF TWO CITIES\n",
      "\n",
      "A STORY OF THE FRENCH REVOLUTION\n",
      "\n",
      "By Charles Dickens\n",
      "\n",
      "\n",
      "CONTENTS\n",
      "\n",
      "\n",
      "     Book the First--Recalled to Life\n",
      "\n",
      "     CHAPTER I \n",
      "\n",
      "Dataset size: 2165111\n"
     ]
    }
   ],
   "source": [
    "print(text[:1000])\n",
    "print(f\"\\nDataset size: {len(text)}\")"
   ]
  },
  {
   "cell_type": "code",
   "execution_count": 81,
   "id": "b4700727",
   "metadata": {},
   "outputs": [
    {
     "name": "stdout",
     "output_type": "stream",
     "text": [
      "19080 unique words.\n",
      "Example of word_index: [('UNK', 1), ('the', 2), ('and', 3), ('of', 4), ('to', 5), ('a', 6), ('in', 7), ('’', 8), ('his', 9), ('he', 10)]\n"
     ]
    }
   ],
   "source": [
    "word_index = tokenizer.word_index\n",
    "print('%s unique words.' % len(word_index))\n",
    "print(f'Example of word_index: {list(word_index.items())[:10]}')"
   ]
  },
  {
   "cell_type": "markdown",
   "id": "3ae1639f5ecfe587",
   "metadata": {
    "collapsed": false,
    "id": "3ae1639f5ecfe587"
   },
   "source": [
    "## 1.2 Text Pre-Processing\n",
    "\n",
    "To prepare the dataset for training, we need to clean the text and create a numerical representation the model can interpret. Perform the following pre-processing steps:\n",
    "\n",
    "*   Convert the entire text to lowercase.\n",
    "*   Use the `Tokenizer` class from the `keras.preprocessing.text` module to tokenize the text. You should fit the tokenizer on the text and then convert the text to a sequence of numbers. You can use the `texts_to_sequences` method to do this.\n",
    "\n",
    "**Note**:\n",
    "* You'll need to specify an appropriate size for the vocabulary. The number of words in the list of most common words can serve as a guide - does it seem like a reasonable vocabulary size?\n",
    "* Some of the words will be excluded from the vocabulary, as they don't appear often enough. It's important to provide a value for `oov_token` when creating the Tokenizer instance, so that these words can be represented as \"unknown\"."
   ]
  },
  {
   "cell_type": "code",
   "execution_count": 80,
   "id": "4d0d30cd98ea453c",
   "metadata": {
    "id": "4d0d30cd98ea453c"
   },
   "outputs": [
    {
     "name": "stdout",
     "output_type": "stream",
     "text": [
      "19080 unique words.\n",
      "Example of word_index: [('UNK', 1), ('the', 2), ('and', 3), ('of', 4), ('to', 5), ('a', 6), ('in', 7), ('’', 8), ('his', 9), ('he', 10)]\n"
     ]
    }
   ],
   "source": [
    "from keras.preprocessing.text import Tokenizer \n",
    "\n",
    "text_list = [text.lower()]\n",
    "# Your code here\n",
    "VOCAB_SIZE = 20000\n",
    "OOV_TOKEN = \"UNK\"\n",
    "\n",
    "tokenizer = Tokenizer(num_words=VOCAB_SIZE, char_level=False, oov_token=OOV_TOKEN )\n",
    "tokenizer.fit_on_texts( text_list )\n",
    "\n",
    "word_index = tokenizer.word_index\n",
    "print('%s unique words.' % len(word_index))\n",
    "print(f'Example of word_index: {list(word_index.items())[:10]}')"
   ]
  },
  {
   "cell_type": "markdown",
   "id": "89d32bb9356f711",
   "metadata": {
    "collapsed": false,
    "id": "89d32bb9356f711"
   },
   "source": [
    "If everything worked, the following line should show you the first 10 words in the vocabulary:"
   ]
  },
  {
   "cell_type": "code",
   "execution_count": 82,
   "id": "6a7cd547a19feece",
   "metadata": {
    "colab": {
     "base_uri": "https://localhost:8080/"
    },
    "id": "6a7cd547a19feece",
    "outputId": "1f52c24c-fe9d-4074-a6b9-2be1b36a172e"
   },
   "outputs": [
    {
     "name": "stdout",
     "output_type": "stream",
     "text": [
      "[('UNK', 1), ('the', 2), ('and', 3), ('of', 4), ('to', 5), ('a', 6), ('in', 7), ('’', 8), ('his', 9), ('he', 10)]\n"
     ]
    }
   ],
   "source": [
    "try:\n",
    "    print(list(tokenizer.word_index.items())[:10])\n",
    "except AttributeError:\n",
    "    print(\"Tokenizer has not been initialized. Possible issue: Complete the relevant section of the assignment to initialize it.\"\n",
    ")"
   ]
  },
  {
   "cell_type": "markdown",
   "id": "da504e4bc6617613",
   "metadata": {
    "collapsed": false,
    "id": "da504e4bc6617613"
   },
   "source": [
    "## 1.3 Sequence Generation\n",
    "\n",
    "Now that the text has been tokenized, we need to create sequences the model can be trained on. There are two parts to this:\n",
    "\n",
    "*   Use the `texts_to_sequences` method from the tokenizer to convert the text to a list of sequences of numbers.\n",
    "*   Generate the training sequences. Each training sequence should contain `SEQ_LENGTH` token IDs from the text. The target token for each sequence should be the word that follows the sequence in the text."
   ]
  },
  {
   "cell_type": "code",
   "execution_count": 207,
   "id": "4ff5fc8d0273709c",
   "metadata": {
    "id": "4ff5fc8d0273709c"
   },
   "outputs": [],
   "source": [
    "from tensorflow.keras.preprocessing.sequence import pad_sequences\n",
    "\n",
    "SEQ_LENGTH = 2000 # Choose an appropriate sequence length\n",
    "\n",
    "# Convert the text to a list of sequences of numbers\n",
    "sequences = tokenizer.texts_to_sequences( text_list )\n",
    "\n",
    "# Generate the training sequences\n",
    "X = []\n",
    "y = []\n",
    "for i in ( range(len(sequences[0]) // SEQ_LENGTH) ):\n",
    "    X.append(sequences[0][i*SEQ_LENGTH : (i+1)*SEQ_LENGTH])\n",
    "    y.append(sequences[0][((i+1)*SEQ_LENGTH)])"
   ]
  },
  {
   "cell_type": "markdown",
   "id": "3b6bdc0deb930df1",
   "metadata": {
    "collapsed": false,
    "id": "3b6bdc0deb930df1"
   },
   "source": [
    "Assuming your sequences are stored in `X` and the corresponding targets in `y`, the following line should print the first training sequence and its target:"
   ]
  },
  {
   "cell_type": "code",
   "execution_count": 208,
   "id": "a495cab04001ce92",
   "metadata": {
    "colab": {
     "base_uri": "https://localhost:8080/"
    },
    "id": "a495cab04001ce92",
    "outputId": "ecc2c1f4-81d5-4edb-ba86-8c53f86df70b"
   },
   "outputs": [
    {
     "name": "stdout",
     "output_type": "stream",
     "text": [
      "Sequence: [2, 240, 220, 1360, 4, 6, 1448, 4, 88, 4706, 32, 389, 3320, 30, 1360, 28, 24, 2, 485, 4, 2672, 2852, 7, 2, 908, 1116, 3, 142, 90, 2268, 4, 2, 345, 22, 45, 2062, 3, 15, 469, 45, 4707, 3876, 19, 146, 1201, 13, 293, 13, 125, 48, 1736, 485, 13, 178, 2, 603, 4, 2, 240, 220, 1080, 3321, 15, 30, 1360, 48, 3050, 22, 1976, 220, 1617, 47, 19, 63, 26, 2853, 7, 2, 908, 1116, 19, 78, 29, 5, 2269, 2, 1676, 4, 2, 510, 152, 19, 63, 2853, 81, 2270, 30, 1360, 2542, 6, 1448, 4, 88, 4706, 6, 736, 4, 2, 864, 2854, 6085, 389, 3320, 2402, 2158, 11771, 11772, 1360, 6086, 142, 5342, 6087, 3877, 5343, 8885, 2271, 737, 755, 320, 7227, 7228, 2855, 909, 32, 11773, 11774, 3, 8886, 8887, 910, 4, 2, 240, 220, 1360, 6, 1448, 4, 88, 4706, 6, 1448, 4, 88, 4706, 6, 736, 4, 2, 864, 2854, 32, 389, 3320, 2063, 682, 2, 126, 2064, 5, 158, 204, 16, 2, 1545, 204, 3878, 2, 1171, 204, 3879, 2, 110, 1013, 204, 3880, 2, 2856, 204, 3322, 2, 243, 390, 204, 3557, 2, 2673, 682, 2, 452, 2, 950, 3323, 204, 16, 334, 248, 2272, 204, 3878, 6, 453, 204, 3879, 6, 3558, 204, 3880, 8888, 204, 3322, 2, 2273, 204, 3557, 1796, 4, 175, 204, 4708, 470, 7, 483, 204, 4709, 470, 7, 2, 510, 204, 4710, 2, 7229, 99, 204, 4268, 88, 5344, 204, 4269, 6, 1029, 2065, 204, 4711, 2, 277, 4, 1677, 204, 4712, 2, 277, 4, 45, 1677, 204, 4713, 2, 1399, 2159, 204, 4714, 813, 204, 6088, 236, 813, 204, 6089, 49, 110, 204, 6090, 1172, 347, 204, 6091, 46, 651, 204, 6092, 6, 7230, 204, 6093, 5345, 1273, 204, 6094, 2, 814, 236, 5346, 204, 6095, 225, 5346, 204, 6096, 834, 5, 2, 5347, 3881, 682, 2, 756, 2, 6097, 4, 6, 1889, 204, 16, 7, 608, 204, 3878, 2, 2857, 204, 3879, 2, 951, 204, 3880, 1361, 7, 1889, 204, 3322, 2, 1014, 304, 204, 3557, 2274, 204, 4708, 6, 1081, 22, 2, 112, 204, 4709, 6, 87, 22, 1797, 204, 4710, 2, 969, 118, 204, 4268, 2, 5348, 4, 2, 951, 204, 4269, 4270, 204, 4711, 992, 204, 4712, 952, 88, 204, 4713, 2, 813, 190, 204, 4714, 2, 1273, 848, 56, 24, 144, 682, 2, 126, 2064, 5, 158, 204, 16, 2, 1545, 13, 11, 2, 379, 4, 426, 13, 11, 2, 1400, 4, 426, 13, 11, 2, 1058, 4, 2858, 13, 11, 2, 1058, 4, 11775, 13, 11, 2, 6098, 4, 2859, 13, 11, 2, 6098, 4, 7231, 13, 11, 2, 1798, 4, 212, 13, 11, 2, 1798, 4, 992, 13, 11, 2, 2403, 4, 250, 13, 11, 2, 1977, 4, 2160, 91, 21, 604, 81, 185, 91, 21, 150, 81, 185, 91, 34, 37, 218, 2404, 5, 911, 91, 34, 37, 218, 2404, 2, 90, 108, 7, 286, 2, 1545, 11, 41, 265, 97, 2, 405, 1545, 14, 83, 4, 94, 11776, 3051, 5349, 23, 94, 136, 636, 24, 84, 48, 24, 1978, 7, 2, 11777, 1082, 4, 4715, 145, 43, 34, 6, 757, 15, 6, 276, 6099, 3, 6, 2275, 15, 6, 1232, 119, 23, 2, 5350, 4, 881, 43, 34, 6, 757, 15, 6, 276, 6099, 3, 6, 2275, 15, 6, 865, 119, 23, 2, 5350, 4, 683, 7, 255, 4716, 13, 11, 8889, 85, 8890, 5, 2, 4717, 4, 2, 270, 8891, 4, 8892, 3, 11778, 14, 332, 7, 454, 34, 2161, 24, 144, 13, 11, 2, 511, 4, 187, 512, 49, 1030, 835, 533, 3, 2405, 334, 8893, 11779, 34, 11780, 5, 881, 22, 14, 3324, 1545, 20, 22, 30, 121, 11781, 21, 5342, 3882, 31, 334, 3, 7232, 2276, 7233, 4, 274, 6, 4718, 725, 7, 2, 158, 5351, 21, 8894, 2, 4719, 443, 32, 7234, 14, 2406, 34, 118, 24, 2, 6100, 52, 4, 564, 3, 6101, 196, 2, 4720, 1274, 349, 21, 53, 447, 145, 6, 160, 662, 4, 248, 111, 11782, 56, 94, 7235, 20, 2, 618, 4, 30, 50, 511, 139, 499, 8895, 11783, 7, 11784, 6102, 56, 5352, 1117, 7235, 7, 2, 3052, 738, 4, 1678, 21, 3883, 127, 5, 2, 737, 1307, 3, 175, 40, 6, 11785, 4, 4271, 3559, 7, 7236, 33, 505, 5, 2674, 29, 3560, 71, 933, 5, 2, 673, 1679, 85, 79, 6103, 233, 636, 141, 79, 4, 2, 11786, 4, 2, 4720, 1274, 6104, 683, 478, 3324, 23, 2, 257, 20, 5, 1118, 8893, 85, 31, 758, 4, 2, 11787, 3, 11788, 1401, 15, 8896, 11789, 73, 779, 565, 438, 522, 3, 8897, 13, 178, 2, 4272, 4, 31, 1979, 11790, 60, 3325, 513, 1119, 15, 102, 5353, 11791, 20, 11792, 6, 1233, 5, 29, 9, 180, 912, 153, 9, 1980, 2277, 56, 15, 11793, 3, 9, 586, 3326, 1618, 479, 10, 21, 26, 4721, 73, 7, 2, 1234, 5, 67, 555, 5, 6, 1202, 1737, 4, 7237, 33, 300, 308, 9, 767, 22, 6, 674, 4, 83, 952, 48, 2543, 3053, 13, 28, 1031, 267, 14, 4722, 7, 2, 5354, 4, 683, 3, 11794, 43, 34, 1738, 1173, 51, 14, 6105, 11, 177, 5, 395, 506, 2544, 32, 2, 7238, 1981, 5, 127, 73, 3, 27, 11795, 58, 11796, 5, 195, 6, 534, 8898, 11797, 15, 6, 6106, 3, 6, 1235, 7, 13, 1449, 7, 1308, 13, 28, 1031, 267, 14, 7, 2, 1799, 8899, 4, 83, 11798, 4, 2, 396, 7239, 3884, 5, 652, 43, 34, 7240, 40, 2, 1498, 14, 50, 116, 3561, 2675, 11799, 15, 5355, 6107, 6108, 96, 32, 5356, 3, 11800, 7, 32, 7241, 33, 2, 2676, 395, 21, 506, 320, 1450, 5, 27, 9, 2407, 4, 2, 2854, 36, 14, 7238, 3, 14, 2676, 200, 38, 194, 11801, 194, 2545, 3, 45, 49, 222, 65, 20, 38, 179, 96, 15, 3885, 2677, 2, 229, 8900, 20, 5, 3886, 79, 1982, 14, 38, 34, 2678, 11, 5, 27, 11802, 3, 8901, 7, 881, 43, 11, 815, 46, 3327, 4, 738, 3, 4273, 5, 6109, 105, 2278, 8902, 7242, 11803, 32, 2162, 201, 3, 4723, 11804, 176, 159, 7, 2, 993, 410, 156, 110, 4274, 34, 5357, 11805, 26, 5, 168, 56, 4, 483, 165, 5358, 59, 2408, 5, 11806, 11807, 24, 5359, 2, 7243, 7, 2, 284, 11, 6, 630, 2159, 7, 2, 212, 3, 136, 2546, 3, 11808, 32, 9, 277, 2159, 274, 10, 325, 7, 9, 755, 4, 535, 1032, 17, 6110, 1619, 25, 141, 2, 99, 3, 3562, 125, 2, 1171, 11, 7244, 32, 835, 8903, 3, 2, 709, 1619, 163, 383, 3, 77, 189, 1619, 383, 76, 32, 2, 90, 321, 1499, 1500, 4, 2, 4724, 4, 9, 8904, 17, 111, 33, 2, 1171, 11, 4725, 7, 1120, 14, 8905, 8906, 2, 512, 1983, 4, 564, 11, 118, 5, 768, 3, 2860, 23, 11809, 536, 32, 49, 7243, 55, 11810, 2, 2163, 994, 7, 453, 4, 37, 9, 11811, 1174, 7, 564, 8907, 5360, 11812, 15, 59, 7245, 3, 2, 3054, 4, 2, 523, 2409, 11813, 7, 241, 65, 3055, 15, 6111, 4, 1619, 3, 1236, 7246, 11814, 153, 4726, 8908, 40, 2, 7247, 4, 1083, 4717, 22, 365, 970, 849, 7248, 179, 58, 2279, 11815, 5, 1739, 24, 7249, 3887, 3, 2, 1890, 2409, 23, 2, 7248, 3, 2, 7248, 2409, 23, 2, 1890, 3, 653, 186, 79, 4, 113, 6112, 105, 56, 4, 2, 726, 108, 7, 2, 1984, 4, 65, 2, 8909, 144, 1203, 3, 144, 971, 85, 2164, 11, 7, 2165, 6113, 92, 11816, 52, 115, 4727, 4, 7250, 7251, 92, 1620, 6, 8910, 23, 6114, 55, 21, 53, 290, 23, 7252, 92, 1621, 175, 7, 2, 87, 22, 4728, 32, 2, 662, 3, 92, 1621, 6115, 22, 2, 112, 4, 6101, 1084, 5, 116, 359, 2, 158, 4, 46, 5361, 8911, 3, 5, 573, 4, 6, 1237, 11817, 55, 21, 4725, 6, 8912, 169, 4, 3056, 37, 113, 332, 3, 6, 1030, 97, 65, 157, 5, 866, 7, 3, 391, 61, 2, 129, 57, 511, 49, 1030, 835, 533, 3, 2405, 334, 8913, 32, 65, 219, 2, 7238, 3, 2, 2676, 1238, 7253, 210, 88, 4, 2, 276, 6116, 3, 210, 90, 88, 4, 2, 1232, 3, 2, 865, 486, 5362, 15, 3563, 267, 3, 444, 59, 4729, 2861, 15, 6, 318, 87, 574, 114, 2, 511, 49, 1030, 835, 533, 3, 2405, 334, 1501, 59, 8914, 3, 6117, 4, 305, 1891, 2, 1891, 4, 30, 11818, 241, 2, 537, 411, 2, 710, 14, 356, 81, 65, 204, 3878, 2, 1171, 13, 11, 2, 2280, 448, 14, 356, 23, 6, 4275, 110, 595, 7, 4730, 81, 2, 126, 4, 2, 1740, 15, 274, 30, 1308, 130, 198, 2, 2280, 448, 356, 20, 5, 25, 727, 2, 2280, 1171, 20, 13, 7254, 52, 7255, 779, 10, 273, 52, 779, 7, 2, 6107, 32, 2, 209, 4, 2, 1171, 20, 2, 537, 4, 2, 1362, 114, 26, 479, 38, 21, 2, 684, 3564, 24, 780, 1985, 178, 2, 697, 36, 479, 2, 779, 3, 2, 3328, 3, 2, 1546, 3, 2, 1171, 34, 37, 41, 396, 14, 2, 575, 21, 163, 426, 506, 127, 5, 6, 816, 1119, 181, 970, 2, 309, 631, 2, 448, 15, 2, 11819, 1892, 4, 359, 13, 132, 5, 11820, 3057, 3, 1800, 3, 1309, 3, 709, 466, 7, 4276, 21, 538, 14, 3058, 4, 6118, 33, 7256, 6, 576, 1085, 1363, 7, 1033, 4, 2, 3565, 14, 83, 5363, 3888, 63, 11821, 15, 654, 3, 2, 6119, 21, 11822, 3, 238, 5, 59, 1175, 15, 3566, 655, 3, 3889, 3059, 38, 7257, 59, 108, 141, 2, 1502, 1546, 8915, 3, 8916, 288, 8917, 20, 47, 38, 34, 1622, 5, 1402, 22, 2, 4277, 7258, 20, 524, 20, 2, 2066, 1680, 65, 3, 307, 65, 5, 6, 768, 15, 6, 5364, 8918, 1893, 41, 1893, 77, 17, 2, 412, 2067, 2410, 556, 9, 99, 3, 604, 61, 13, 97, 46, 4278, 2547, 493, 8919, 14, 2, 309, 74, 27, 189, 52, 2, 779, 2166, 2, 2067, 118, 30, 3329, 2, 1547, 882, 20, 6, 2411, 1547, 137, 3, 11, 1894, 7, 162, 43, 11, 6, 7259, 1681, 7, 37, 2, 11823, 3, 13, 21, 11824, 7, 94, 11825, 52, 2, 779, 97, 46, 1978, 350, 4731, 537, 3, 1503, 781, 6, 11826, 3, 6120, 333, 1681, 13, 118, 94, 1801, 108, 141, 2, 215, 7, 11827, 14, 7260, 480, 3, 8920, 49, 131, 20, 2, 2679, 4, 46, 7261, 814, 137, 67, 13, 11, 6121, 267, 5, 782, 56, 604, 40, 2, 212, 4, 2, 309, 1802, 36, 113, 94, 138, 6122, 3, 6, 205, 3053, 4, 448, 3, 2, 11828, 4, 2, 6123, 575, 7262, 58, 13, 20, 47, 38, 21, 118, 13, 37, 88, 90, 1362, 1119, 2, 49, 34, 8921, 52, 2, 779, 32, 2, 209, 4, 2, 1171, 37, 163, 34, 3060, 5, 2, 11829, 3, 117, 2, 913, 3, 972, 1895, 619, 26, 49, 4, 2, 163, 74, 29, 18, 40, 268, 10, 245, 68, 471, 4, 2, 90, 88, 11, 97, 3, 297, 11, 1803, 178, 469, 20, 151, 8922, 40, 2, 122, 4, 2, 162, 20, 40, 2, 122, 4, 2, 586, 4, 9, 88, 1310, 7, 210, 347, 2412, 34, 50, 7263, 4, 136, 4279, 23, 6, 286, 798, 24, 850, 23, 2, 448, 137, 27, 6, 5365, 48, 7, 6124, 15, 8903, 20, 5, 2, 1059, 51, 156, 3330, 143, 3, 2167, 143, 74, 2862, 851, 7, 535, 11830, 1060, 11831, 40, 2, 3890, 5, 2, 4280, 2863, 7264, 11832, 13, 11, 2, 7265, 252, 61, 2, 1797, 41, 2, 709, 4, 2, 2280, 1171, 186, 5, 76, 14, 4275, 110, 7, 4730, 49, 1030, 835, 533, 3, 2405, 334, 3891, 52, 7255, 779, 20, 10, 230, 23, 9, 138, 455, 5366, 244, 2, 1171, 2548, 9, 367, 3, 1086, 46, 312, 3, 6, 87, 23, 2, 322, 2680, 81, 25, 152, 6, 3055, 5367, 356, 22, 2, 545, 4, 711, 48]\n",
      "Target: 836\n",
      "Translated back to words: ['the', 'project', 'gutenberg', 'ebook', 'of', 'a', 'tale', 'of', 'two', 'cities', 'by', 'charles', 'dickens', 'this', 'ebook', 'is', 'for', 'the', 'use', 'of', 'anyone', 'anywhere', 'in', 'the', 'united', 'states', 'and', 'most', 'other', 'parts', 'of', 'the', 'world', 'at', 'no', 'cost', 'and', 'with', 'almost', 'no', 'restrictions', 'whatsoever', 'you', 'may', 'copy', 'it', 'give', 'it', 'away', 'or', 're', 'use', 'it', 'under', 'the', 'terms', 'of', 'the', 'project', 'gutenberg', 'license', 'included', 'with', 'this', 'ebook', 'or', 'online', 'at', 'www', 'gutenberg', 'org', 'if', 'you', 'are', 'not', 'located', 'in', 'the', 'united', 'states', 'you', 'will', 'have', 'to', 'check', 'the', 'laws', 'of', 'the', 'country', 'where', 'you', 'are', 'located', 'before', 'using', 'this', 'ebook', 'title', 'a', 'tale', 'of', 'two', 'cities', 'a', 'story', 'of', 'the', 'french', 'revolution', 'author', 'charles', 'dickens', 'release', 'date', 'january', '1994', 'ebook', '98', 'most', 'recently', 'updated', 'december', '20', '2020', 'language', 'english', 'character', 'set', 'encoding', 'utf', '8', 'produced', 'by', 'judith', 'boss', 'and', 'david', 'widger', 'start', 'of', 'the', 'project', 'gutenberg', 'ebook', 'a', 'tale', 'of', 'two', 'cities', 'a', 'tale', 'of', 'two', 'cities', 'a', 'story', 'of', 'the', 'french', 'revolution', 'by', 'charles', 'dickens', 'contents', 'book', 'the', 'first', 'recalled', 'to', 'life', 'chapter', 'i', 'the', 'period', 'chapter', 'ii', 'the', 'mail', 'chapter', 'iii', 'the', 'night', 'shadows', 'chapter', 'iv', 'the', 'preparation', 'chapter', 'v', 'the', 'wine', 'shop', 'chapter', 'vi', 'the', 'shoemaker', 'book', 'the', 'second', 'the', 'golden', 'thread', 'chapter', 'i', 'five', 'years', 'later', 'chapter', 'ii', 'a', 'sight', 'chapter', 'iii', 'a', 'disappointment', 'chapter', 'iv', 'congratulatory', 'chapter', 'v', 'the', 'jackal', 'chapter', 'vi', 'hundreds', 'of', 'people', 'chapter', 'vii', 'monseigneur', 'in', 'town', 'chapter', 'viii', 'monseigneur', 'in', 'the', 'country', 'chapter', 'ix', 'the', 'gorgon’s', 'head', 'chapter', 'x', 'two', 'promises', 'chapter', 'xi', 'a', 'companion', 'picture', 'chapter', 'xii', 'the', 'fellow', 'of', 'delicacy', 'chapter', 'xiii', 'the', 'fellow', 'of', 'no', 'delicacy', 'chapter', 'xiv', 'the', 'honest', 'tradesman', 'chapter', 'xv', 'knitting', 'chapter', 'xvi', 'still', 'knitting', 'chapter', 'xvii', 'one', 'night', 'chapter', 'xviii', 'nine', 'days', 'chapter', 'xix', 'an', 'opinion', 'chapter', 'xx', 'a', 'plea', 'chapter', 'xxi', 'echoing', 'footsteps', 'chapter', 'xxii', 'the', 'sea', 'still', 'rises', 'chapter', 'xxiii', 'fire', 'rises', 'chapter', 'xxiv', 'drawn', 'to', 'the', 'loadstone', 'rock', 'book', 'the', 'third', 'the', 'track', 'of', 'a', 'storm', 'chapter', 'i', 'in', 'secret', 'chapter', 'ii', 'the', 'grindstone', 'chapter', 'iii', 'the', 'shadow', 'chapter', 'iv', 'calm', 'in', 'storm', 'chapter', 'v', 'the', 'wood', 'sawyer', 'chapter', 'vi', 'triumph', 'chapter', 'vii', 'a', 'knock', 'at', 'the', 'door', 'chapter', 'viii', 'a', 'hand', 'at', 'cards', 'chapter', 'ix', 'the', 'game', 'made', 'chapter', 'x', 'the', 'substance', 'of', 'the', 'shadow', 'chapter', 'xi', 'dusk', 'chapter', 'xii', 'darkness', 'chapter', 'xiii', 'fifty', 'two', 'chapter', 'xiv', 'the', 'knitting', 'done', 'chapter', 'xv', 'the', 'footsteps', 'die', 'out', 'for', 'ever', 'book', 'the', 'first', 'recalled', 'to', 'life', 'chapter', 'i', 'the', 'period', 'it', 'was', 'the', 'best', 'of', 'times', 'it', 'was', 'the', 'worst', 'of', 'times', 'it', 'was', 'the', 'age', 'of', 'wisdom', 'it', 'was', 'the', 'age', 'of', 'foolishness', 'it', 'was', 'the', 'epoch', 'of', 'belief', 'it', 'was', 'the', 'epoch', 'of', 'incredulity', 'it', 'was', 'the', 'season', 'of', 'light', 'it', 'was', 'the', 'season', 'of', 'darkness', 'it', 'was', 'the', 'spring', 'of', 'hope', 'it', 'was', 'the', 'winter', 'of', 'despair', 'we', 'had', 'everything', 'before', 'us', 'we', 'had', 'nothing', 'before', 'us', 'we', 'were', 'all', 'going', 'direct', 'to', 'heaven', 'we', 'were', 'all', 'going', 'direct', 'the', 'other', 'way', 'in', 'short', 'the', 'period', 'was', 'so', 'far', 'like', 'the', 'present', 'period', 'that', 'some', 'of', 'its', 'noisiest', 'authorities', 'insisted', 'on', 'its', 'being', 'received', 'for', 'good', 'or', 'for', 'evil', 'in', 'the', 'superlative', 'degree', 'of', 'comparison', 'only', 'there', 'were', 'a', 'king', 'with', 'a', 'large', 'jaw', 'and', 'a', 'queen', 'with', 'a', 'plain', 'face', 'on', 'the', 'throne', 'of', 'england', 'there', 'were', 'a', 'king', 'with', 'a', 'large', 'jaw', 'and', 'a', 'queen', 'with', 'a', 'fair', 'face', 'on', 'the', 'throne', 'of', 'france', 'in', 'both', 'countries', 'it', 'was', 'clearer', 'than', 'crystal', 'to', 'the', 'lords', 'of', 'the', 'state', 'preserves', 'of', 'loaves', 'and', 'fishes', 'that', 'things', 'in', 'general', 'were', 'settled', 'for', 'ever', 'it', 'was', 'the', 'year', 'of', 'our', 'lord', 'one', 'thousand', 'seven', 'hundred', 'and', 'seventy', 'five', 'spiritual', 'revelations', 'were', 'conceded', 'to', 'england', 'at', 'that', 'favoured', 'period', 'as', 'at', 'this', 'mrs', 'southcott', 'had', 'recently', 'attained', 'her', 'five', 'and', 'twentieth', 'blessed', 'birthday', 'of', 'whom', 'a', 'prophetic', 'private', 'in', 'the', 'life', 'guards', 'had', 'heralded', 'the', 'sublime', 'appearance', 'by', 'announcing', 'that', 'arrangements', 'were', 'made', 'for', 'the', 'swallowing', 'up', 'of', 'london', 'and', 'westminster', 'even', 'the', 'cock', 'lane', 'ghost', 'had', 'been', 'laid', 'only', 'a', 'round', 'dozen', 'of', 'years', 'after', 'rapping', 'out', 'its', 'messages', 'as', 'the', 'spirits', 'of', 'this', 'very', 'year', 'last', 'past', 'supernaturally', 'deficient', 'in', 'originality', 'rapped', 'out', 'theirs', 'mere', 'messages', 'in', 'the', 'earthly', 'order', 'of', 'events', 'had', 'lately', 'come', 'to', 'the', 'english', 'crown', 'and', 'people', 'from', 'a', 'congress', 'of', 'british', 'subjects', 'in', 'america', 'which', 'strange', 'to', 'relate', 'have', 'proved', 'more', 'important', 'to', 'the', 'human', 'race', 'than', 'any', 'communications', 'yet', 'received', 'through', 'any', 'of', 'the', 'chickens', 'of', 'the', 'cock', 'lane', 'brood', 'france', 'less', 'favoured', 'on', 'the', 'whole', 'as', 'to', 'matters', 'spiritual', 'than', 'her', 'sister', 'of', 'the', 'shield', 'and', 'trident', 'rolled', 'with', 'exceeding', 'smoothness', 'down', 'hill', 'making', 'paper', 'money', 'and', 'spending', 'it', 'under', 'the', 'guidance', 'of', 'her', 'christian', 'pastors', 'she', 'entertained', 'herself', 'besides', 'with', 'such', 'humane', 'achievements', 'as', 'sentencing', 'a', 'youth', 'to', 'have', 'his', 'hands', 'cut', 'off', 'his', 'tongue', 'torn', 'out', 'with', 'pincers', 'and', 'his', 'body', 'burned', 'alive', 'because', 'he', 'had', 'not', 'kneeled', 'down', 'in', 'the', 'rain', 'to', 'do', 'honour', 'to', 'a', 'dirty', 'procession', 'of', 'monks', 'which', 'passed', 'within', 'his', 'view', 'at', 'a', 'distance', 'of', 'some', 'fifty', 'or', 'sixty', 'yards', 'it', 'is', 'likely', 'enough', 'that', 'rooted', 'in', 'the', 'woods', 'of', 'france', 'and', 'norway', 'there', 'were', 'growing', 'trees', 'when', 'that', 'sufferer', 'was', 'put', 'to', 'death', 'already', 'marked', 'by', 'the', 'woodman', 'fate', 'to', 'come', 'down', 'and', 'be', 'sawn', 'into', 'boards', 'to', 'make', 'a', 'certain', 'movable', 'framework', 'with', 'a', 'sack', 'and', 'a', 'knife', 'in', 'it', 'terrible', 'in', 'history', 'it', 'is', 'likely', 'enough', 'that', 'in', 'the', 'rough', 'outhouses', 'of', 'some', 'tillers', 'of', 'the', 'heavy', 'lands', 'adjacent', 'to', 'paris', 'there', 'were', 'sheltered', 'from', 'the', 'weather', 'that', 'very', 'day', 'rude', 'carts', 'bespattered', 'with', 'rustic', 'mire', 'snuffed', 'about', 'by', 'pigs', 'and', 'roosted', 'in', 'by', 'poultry', 'which', 'the', 'farmer', 'death', 'had', 'already', 'set', 'apart', 'to', 'be', 'his', 'tumbrils', 'of', 'the', 'revolution', 'but', 'that', 'woodman', 'and', 'that', 'farmer', 'though', 'they', 'work', 'unceasingly', 'work', 'silently', 'and', 'no', 'one', 'heard', 'them', 'as', 'they', 'went', 'about', 'with', 'muffled', 'tread', 'the', 'rather', 'forasmuch', 'as', 'to', 'entertain', 'any', 'suspicion', 'that', 'they', 'were', 'awake', 'was', 'to', 'be', 'atheistical', 'and', 'traitorous', 'in', 'england', 'there', 'was', 'scarcely', 'an', 'amount', 'of', 'order', 'and', 'protection', 'to', 'justify', 'much', 'national', 'boasting', 'daring', 'burglaries', 'by', 'armed', 'men', 'and', 'highway', 'robberies', 'took', 'place', 'in', 'the', 'capital', 'itself', 'every', 'night', 'families', 'were', 'publicly', 'cautioned', 'not', 'to', 'go', 'out', 'of', 'town', 'without', 'removing', 'their', 'furniture', 'to', 'upholsterers’', 'warehouses', 'for', 'security', 'the', 'highwayman', 'in', 'the', 'dark', 'was', 'a', 'city', 'tradesman', 'in', 'the', 'light', 'and', 'being', 'recognised', 'and', 'challenged', 'by', 'his', 'fellow', 'tradesman', 'whom', 'he', 'stopped', 'in', 'his', 'character', 'of', '“the', 'captain', '”', 'gallantly', 'shot', 'him', 'through', 'the', 'head', 'and', 'rode', 'away', 'the', 'mail', 'was', 'waylaid', 'by', 'seven', 'robbers', 'and', 'the', 'guard', 'shot', 'three', 'dead', 'and', 'then', 'got', 'shot', 'dead', 'himself', 'by', 'the', 'other', 'four', '“in', 'consequence', 'of', 'the', 'failure', 'of', 'his', 'ammunition', '”', 'after', 'which', 'the', 'mail', 'was', 'robbed', 'in', 'peace', 'that', 'magnificent', 'potentate', 'the', 'lord', 'mayor', 'of', 'london', 'was', 'made', 'to', 'stand', 'and', 'deliver', 'on', 'turnham', 'green', 'by', 'one', 'highwayman', 'who', 'despoiled', 'the', 'illustrious', 'creature', 'in', 'sight', 'of', 'all', 'his', 'retinue', 'prisoners', 'in', 'london', 'gaols', 'fought', 'battles', 'with', 'their', 'turnkeys', 'and', 'the', 'majesty', 'of', 'the', 'law', 'fired', 'blunderbusses', 'in', 'among', 'them', 'loaded', 'with', 'rounds', 'of', 'shot', 'and', 'ball', 'thieves', 'snipped', 'off', 'diamond', 'crosses', 'from', 'the', 'necks', 'of', 'noble', 'lords', 'at', 'court', 'drawing', 'rooms', 'musketeers', 'went', 'into', 'st', 'giles’s', 'to', 'search', 'for', 'contraband', 'goods', 'and', 'the', 'mob', 'fired', 'on', 'the', 'musketeers', 'and', 'the', 'musketeers', 'fired', 'on', 'the', 'mob', 'and', 'nobody', 'thought', 'any', 'of', 'these', 'occurrences', 'much', 'out', 'of', 'the', 'common', 'way', 'in', 'the', 'midst', 'of', 'them', 'the', 'hangman', 'ever', 'busy', 'and', 'ever', 'worse', 'than', 'useless', 'was', 'in', 'constant', 'requisition', 'now', 'stringing', 'up', 'long', 'rows', 'of', 'miscellaneous', 'criminals', 'now', 'hanging', 'a', 'housebreaker', 'on', 'saturday', 'who', 'had', 'been', 'taken', 'on', 'tuesday', 'now', 'burning', 'people', 'in', 'the', 'hand', 'at', 'newgate', 'by', 'the', 'dozen', 'and', 'now', 'burning', 'pamphlets', 'at', 'the', 'door', 'of', 'westminster', 'hall', 'to', 'day', 'taking', 'the', 'life', 'of', 'an', 'atrocious', 'murderer', 'and', 'to', 'morrow', 'of', 'a', 'wretched', 'pilferer', 'who', 'had', 'robbed', 'a', 'farmer’s', 'boy', 'of', 'sixpence', 'all', 'these', 'things', 'and', 'a', 'thousand', 'like', 'them', 'came', 'to', 'pass', 'in', 'and', 'close', 'upon', 'the', 'dear', 'old', 'year', 'one', 'thousand', 'seven', 'hundred', 'and', 'seventy', 'five', 'environed', 'by', 'them', 'while', 'the', 'woodman', 'and', 'the', 'farmer', 'worked', 'unheeded', 'those', 'two', 'of', 'the', 'large', 'jaws', 'and', 'those', 'other', 'two', 'of', 'the', 'plain', 'and', 'the', 'fair', 'faces', 'trod', 'with', 'stir', 'enough', 'and', 'carried', 'their', 'divine', 'rights', 'with', 'a', 'high', 'hand', 'thus', 'did', 'the', 'year', 'one', 'thousand', 'seven', 'hundred', 'and', 'seventy', 'five', 'conduct', 'their', 'greatnesses', 'and', 'myriads', 'of', 'small', 'creatures', 'the', 'creatures', 'of', 'this', 'chronicle', 'among', 'the', 'rest', 'along', 'the', 'roads', 'that', 'lay', 'before', 'them', 'chapter', 'ii', 'the', 'mail', 'it', 'was', 'the', 'dover', 'road', 'that', 'lay', 'on', 'a', 'friday', 'night', 'late', 'in', 'november', 'before', 'the', 'first', 'of', 'the', 'persons', 'with', 'whom', 'this', 'history', 'has', 'business', 'the', 'dover', 'road', 'lay', 'as', 'to', 'him', 'beyond', 'the', 'dover', 'mail', 'as', 'it', 'lumbered', 'up', 'shooter’s', 'hill', 'he', 'walked', 'up', 'hill', 'in', 'the', 'mire', 'by', 'the', 'side', 'of', 'the', 'mail', 'as', 'the', 'rest', 'of', 'the', 'passengers', 'did', 'not', 'because', 'they', 'had', 'the', 'least', 'relish', 'for', 'walking', 'exercise', 'under', 'the', 'circumstances', 'but', 'because', 'the', 'hill', 'and', 'the', 'harness', 'and', 'the', 'mud', 'and', 'the', 'mail', 'were', 'all', 'so', 'heavy', 'that', 'the', 'horses', 'had', 'three', 'times', 'already', 'come', 'to', 'a', 'stop', 'besides', 'once', 'drawing', 'the', 'coach', 'across', 'the', 'road', 'with', 'the', 'mutinous', 'intent', 'of', 'taking', 'it', 'back', 'to', 'blackheath', 'reins', 'and', 'whip', 'and', 'coachman', 'and', 'guard', 'however', 'in', 'combination', 'had', 'read', 'that', 'article', 'of', 'war', 'which', 'forbade', 'a', 'purpose', 'otherwise', 'strongly', 'in', 'favour', 'of', 'the', 'argument', 'that', 'some', 'brute', 'animals', 'are', 'endued', 'with', 'reason', 'and', 'the', 'team', 'had', 'capitulated', 'and', 'returned', 'to', 'their', 'duty', 'with', 'drooping', 'heads', 'and', 'tremulous', 'tails', 'they', 'mashed', 'their', 'way', 'through', 'the', 'thick', 'mud', 'floundering', 'and', 'stumbling', 'between', 'whiles', 'as', 'if', 'they', 'were', 'falling', 'to', 'pieces', 'at', 'the', 'larger', 'joints', 'as', 'often', 'as', 'the', 'driver', 'rested', 'them', 'and', 'brought', 'them', 'to', 'a', 'stand', 'with', 'a', 'wary', '“wo', 'ho', 'so', 'ho', 'then', '”', 'the', 'near', 'leader', 'violently', 'shook', 'his', 'head', 'and', 'everything', 'upon', 'it', 'like', 'an', 'unusually', 'emphatic', 'horse', 'denying', 'that', 'the', 'coach', 'could', 'be', 'got', 'up', 'the', 'hill', 'whenever', 'the', 'leader', 'made', 'this', 'rattle', 'the', 'passenger', 'started', 'as', 'a', 'nervous', 'passenger', 'might', 'and', 'was', 'disturbed', 'in', 'mind', 'there', 'was', 'a', 'steaming', 'mist', 'in', 'all', 'the', 'hollows', 'and', 'it', 'had', 'roamed', 'in', 'its', 'forlornness', 'up', 'the', 'hill', 'like', 'an', 'evil', 'spirit', 'seeking', 'rest', 'and', 'finding', 'none', 'a', 'clammy', 'and', 'intensely', 'cold', 'mist', 'it', 'made', 'its', 'slow', 'way', 'through', 'the', 'air', 'in', 'ripples', 'that', 'visibly', 'followed', 'and', 'overspread', 'one', 'another', 'as', 'the', 'waves', 'of', 'an', 'unwholesome', 'sea', 'might', 'do', 'it', 'was', 'dense', 'enough', 'to', 'shut', 'out', 'everything', 'from', 'the', 'light', 'of', 'the', 'coach', 'lamps', 'but', 'these', 'its', 'own', 'workings', 'and', 'a', 'few', 'yards', 'of', 'road', 'and', 'the', 'reek', 'of', 'the', 'labouring', 'horses', 'steamed', 'into', 'it', 'as', 'if', 'they', 'had', 'made', 'it', 'all', 'two', 'other', 'passengers', 'besides', 'the', 'one', 'were', 'plodding', 'up', 'the', 'hill', 'by', 'the', 'side', 'of', 'the', 'mail', 'all', 'three', 'were', 'wrapped', 'to', 'the', 'cheekbones', 'and', 'over', 'the', 'ears', 'and', 'wore', 'jack', 'boots', 'not', 'one', 'of', 'the', 'three', 'could', 'have', 'said', 'from', 'anything', 'he', 'saw', 'what', 'either', 'of', 'the', 'other', 'two', 'was', 'like', 'and', 'each', 'was', 'hidden', 'under', 'almost', 'as', 'many', 'wrappers', 'from', 'the', 'eyes', 'of', 'the', 'mind', 'as', 'from', 'the', 'eyes', 'of', 'the', 'body', 'of', 'his', 'two', 'companions', 'in', 'those', 'days', 'travellers', 'were', 'very', 'shy', 'of', 'being', 'confidential', 'on', 'a', 'short', 'notice', 'for', 'anybody', 'on', 'the', 'road', 'might', 'be', 'a', 'robber', 'or', 'in', 'league', 'with', 'robbers', 'as', 'to', 'the', 'latter', 'when', 'every', 'posting', 'house', 'and', 'ale', 'house', 'could', 'produce', 'somebody', 'in', '“the', 'captain’s”', 'pay', 'ranging', 'from', 'the', 'landlord', 'to', 'the', 'lowest', 'stable', 'non', 'descript', 'it', 'was', 'the', 'likeliest', 'thing', 'upon', 'the', 'cards', 'so', 'the', 'guard', 'of', 'the', 'dover', 'mail', 'thought', 'to', 'himself', 'that', 'friday', 'night', 'in', 'november', 'one', 'thousand', 'seven', 'hundred', 'and', 'seventy', 'five', 'lumbering', 'up', 'shooter’s', 'hill', 'as', 'he', 'stood', 'on', 'his', 'own', 'particular', 'perch', 'behind', 'the', 'mail', 'beating', 'his', 'feet', 'and', 'keeping', 'an', 'eye', 'and', 'a', 'hand', 'on', 'the', 'arm', 'chest', 'before', 'him', 'where', 'a', 'loaded', 'blunderbuss', 'lay', 'at', 'the', 'top', 'of', 'six', 'or'] -> eight\n"
     ]
    }
   ],
   "source": [
    "if len(X) > 0 and len(y) > 0:\n",
    "    print(f'Sequence: {X[0]}\\nTarget: {y[0]}')\n",
    "    print(f'Translated back to words: {[tokenizer.index_word[i] for i in X[0]]} -> {tokenizer.index_word[y[0]]}')\n",
    "else:\n",
    "    print(\"Training sequences have not been generated. Possible issue: Complete the relevant section of the assignment to initialize it.\")\n"
   ]
  },
  {
   "cell_type": "markdown",
   "id": "d5bb2c55da17aaa0",
   "metadata": {
    "collapsed": false,
    "id": "d5bb2c55da17aaa0"
   },
   "source": [
    "And the following code will transform y into a one-hot encoded matrix, and split everything into training and validation sets:"
   ]
  },
  {
   "cell_type": "code",
   "execution_count": 127,
   "id": "3a929b2e6c2cc921",
   "metadata": {
    "colab": {
     "base_uri": "https://localhost:8080/"
    },
    "id": "3a929b2e6c2cc921",
    "outputId": "bbac2f5d-5ec3-40d0-fdd7-c567088569d7"
   },
   "outputs": [
    {
     "name": "stdout",
     "output_type": "stream",
     "text": [
      "X_train shape: (156, 2000)\n",
      "y_train shape: (156, 20000)\n"
     ]
    }
   ],
   "source": [
    "from sklearn.model_selection import train_test_split\n",
    "from keras.utils import to_categorical\n",
    "import numpy as np\n",
    "\n",
    "# Ensure that tokenizer has been initialized\n",
    "if tokenizer is not None:\n",
    "    # Convert X and y to numpy arrays\n",
    "    X = np.array(X)\n",
    "    y = np.array(y)\n",
    "\n",
    "    # One last thing: let's drop any examples where the target is the OOV token - we don't want our model to predict that (boring!)\n",
    "    if OOV_TOKEN in tokenizer.word_index:\n",
    "        mask = y != tokenizer.word_index[OOV_TOKEN]\n",
    "        X = X[mask]\n",
    "        y = y[mask]\n",
    "\n",
    "    # One-hot encode the target token\n",
    "    y = to_categorical(y, num_classes=VOCAB_SIZE)\n",
    "\n",
    "    # Split the data into training and validation sets\n",
    "    X_train, X_val, y_train, y_val = train_test_split(X, y, test_size=0.2, random_state=42)\n",
    "\n",
    "    print(f'X_train shape: {X_train.shape}')\n",
    "    print(f'y_train shape: {y_train.shape}')\n",
    "else:\n",
    "    print(\"Tokenizer has not been initialized. Please initialize it and load the vocabulary before continuing.\")\n"
   ]
  },
  {
   "cell_type": "markdown",
   "id": "b6e4161897210434",
   "metadata": {
    "collapsed": false,
    "id": "b6e4161897210434"
   },
   "source": [
    "# 2. Model Development (Complete or Incomplete)\n",
    "\n",
    "With the dataset prepared, it's time to develop the RNN model. You'll need to define the architecture of the model, compile it, and prepare it for training.\n",
    "\n",
    "## 2.1 Model Architecture\n",
    "\n",
    "Define the architecture of your RNN model. You can design it however you like, but there are a few features that it's important to include:\n",
    "\n",
    "*   An embedding layer that learns a dense representation of the input tokens. You'll need to specify the input dimension (the size of the vocabulary) and the output dimension (the size of the dense representation). Remember, you can look at the documentation [here](https://keras.io/api/layers/core_layers/embedding/).\n",
    "*   At least one recurrent layer. We have learned how to use LSTM layers in class, but you can use other types of recurrent layers if you prefer. You can find the documentation [here](https://keras.io/api/layers/recurrent_layers/lstm/).\n",
    "*   A dense layer with a softmax activation function. This layer will output a probability distribution over the vocabulary, so that the model can make predictions about the next token."
   ]
  },
  {
   "cell_type": "code",
   "execution_count": 128,
   "id": "9fdfaad93818fc8d",
   "metadata": {
    "colab": {
     "base_uri": "https://localhost:8080/"
    },
    "id": "9fdfaad93818fc8d",
    "outputId": "ae02a273-ab37-4274-d41c-b2c0c80350d6"
   },
   "outputs": [
    {
     "name": "stdout",
     "output_type": "stream",
     "text": [
      "Model: \"sequential_17\"\n",
      "_________________________________________________________________\n",
      " Layer (type)                Output Shape              Param #   \n",
      "=================================================================\n",
      " embedding_17 (Embedding)    (None, 2000, 100)         2000000   \n",
      "                                                                 \n",
      " lstm_17 (LSTM)              (None, 100)               80400     \n",
      "                                                                 \n",
      " dense_22 (Dense)            (None, 20000)             2020000   \n",
      "                                                                 \n",
      "=================================================================\n",
      "Total params: 4,100,400\n",
      "Trainable params: 4,100,400\n",
      "Non-trainable params: 0\n",
      "_________________________________________________________________\n"
     ]
    }
   ],
   "source": [
    "from keras.models import Sequential\n",
    "from keras.layers import Embedding, LSTM, Dense, AveragePooling1D, Conv1D, Flatten\n",
    "\n",
    "OUTPUT_DIM = 100\n",
    "model = Sequential([    \n",
    "    Embedding( input_dim=VOCAB_SIZE, output_dim=OUTPUT_DIM, input_length=SEQ_LENGTH, trainable = True ),\n",
    "    LSTM( OUTPUT_DIM ),\n",
    "    Dense( VOCAB_SIZE, activation='softmax' )\n",
    "])\n",
    "\n",
    "# Check if the model has layers before trying to print the summary\n",
    "if len(model.layers) > 0:\n",
    "    model.summary()\n",
    "else:\n",
    "    print(\"No layers have been added to the model. Please complete the assignment by adding the required layers.\")"
   ]
  },
  {
   "cell_type": "markdown",
   "id": "2fafd2dbb0d589fc",
   "metadata": {
    "collapsed": false,
    "id": "2fafd2dbb0d589fc"
   },
   "source": [
    "## 2.2 Model Compilation\n",
    "\n",
    "Compile the model with an appropriate loss function and optimizer. You might also want to track additional metrics, such as accuracy.\n",
    "\n",
    "Give a short explanation of your choice of loss function and optimizer:\n",
    "\n",
    "We did One-Hot representation of label that one of the reason for useing categorical_crossentropy. The categorical cross-entropy loss function measures the dissimilarity between the predicted probability distribution (output from softmax) and the actual distribution (the ground truth label).\n",
    "Adam is widely used optimizers for deep learning. It is automatically adjusts learning rates during training. So we don't need to warry about chossing learning_rate hyperparametr."
   ]
  },
  {
   "cell_type": "code",
   "execution_count": 129,
   "id": "ae4ca7a12051b1fd",
   "metadata": {
    "id": "ae4ca7a12051b1fd"
   },
   "outputs": [],
   "source": [
    "from keras import optimizers\n",
    "model.compile( optimizer=optimizers.Adam(), loss='categorical_crossentropy', metrics='accuracy' )"
   ]
  },
  {
   "cell_type": "markdown",
   "id": "c2f0b90a448c4f4b",
   "metadata": {
    "collapsed": false,
    "id": "c2f0b90a448c4f4b"
   },
   "source": [
    "## 2.3 Model Training\n",
    "\n",
    "Train the model on the training data you've prepared.\n",
    "\n",
    "* Train your model for 5 epochs with a batch size of 128. Use the validation data for validation.\n",
    "* Store the training history in a variable called `history`."
   ]
  },
  {
   "cell_type": "code",
   "execution_count": 130,
   "id": "256b1ea138c67ef7",
   "metadata": {
    "colab": {
     "base_uri": "https://localhost:8080/"
    },
    "id": "256b1ea138c67ef7",
    "outputId": "fba36993-0bf3-472e-f1c3-1da548c12ead"
   },
   "outputs": [
    {
     "name": "stdout",
     "output_type": "stream",
     "text": [
      "Epoch 1/5\n",
      "2/2 [==============================] - 7s 2s/step - loss: 9.9034 - accuracy: 0.0000e+00 - val_loss: 9.9017 - val_accuracy: 0.0500\n",
      "Epoch 2/5\n",
      "2/2 [==============================] - 4s 2s/step - loss: 9.8984 - accuracy: 0.1667 - val_loss: 9.8997 - val_accuracy: 0.1750\n",
      "Epoch 3/5\n",
      "2/2 [==============================] - 4s 2s/step - loss: 9.8933 - accuracy: 0.2372 - val_loss: 9.8974 - val_accuracy: 0.1500\n",
      "Epoch 4/5\n",
      "2/2 [==============================] - 4s 2s/step - loss: 9.8876 - accuracy: 0.1218 - val_loss: 9.8942 - val_accuracy: 0.1500\n",
      "Epoch 5/5\n",
      "2/2 [==============================] - 4s 2s/step - loss: 9.8800 - accuracy: 0.1090 - val_loss: 9.8887 - val_accuracy: 0.1250\n"
     ]
    }
   ],
   "source": [
    "history = model.fit(X_train, y_train, batch_size=128, epochs=5, validation_data=( X_val, y_val ) )"
   ]
  },
  {
   "cell_type": "markdown",
   "id": "195c59bf80d2a2c4",
   "metadata": {
    "collapsed": false
   },
   "source": [
    "Plot the training history to visualize the model's learning progress. Your plot should include the training and validation loss."
   ]
  },
  {
   "cell_type": "code",
   "execution_count": 131,
   "id": "9e8cacec70d8f313",
   "metadata": {
    "id": "9e8cacec70d8f313"
   },
   "outputs": [
    {
     "data": {
      "image/png": "[encoded data removed]",
      "text/plain": [
       "<Figure size 640x480 with 1 Axes>"
      ]
     },
     "metadata": {},
     "output_type": "display_data"
    }
   ],
   "source": [
    "import matplotlib.pyplot as plt\n",
    "\n",
    "plt.plot(history.history[\"val_loss\"], label=\"validation_loss\")\n",
    "plt.plot(history.history[\"loss\"], label=\"train_loss\")\n",
    "plt.legend(loc=\"upper right\")\n",
    "plt.xlabel(\"Epochs\")\n",
    "plt.ylabel(\"Loss\")\n",
    "plt.show()"
   ]
  },
  {
   "cell_type": "markdown",
   "id": "3d9ed71305787aed",
   "metadata": {
    "collapsed": false
   },
   "source": [
    "# 3. Text Generation (Complete or Incomplete)\n",
    "\n",
    "Write a method called `generate_text` that uses the trained model to generate new text. The method should take the following parameters:\n",
    "\n",
    "*   `model`: The trained RNN model.\n",
    "*   `tokenizer`: The tokenizer used to pre-process the text data.\n",
    "*   `seed_text`: The seed text the model will use to generate new text.\n",
    "*   `max_sequence_len`: The maximum length of the sequence used to generate new text.\n",
    "\n",
    "The method should return the generated text.\n",
    "\n",
    "An overview of the text generation process you should follow:\n",
    "\n",
    "1. Tokenize the seed text using the tokenizer we built before.\n",
    "2. Pad the sequences to the same length as the training sequences - you can use the `pad_sequences` method from the `keras.preprocessing.sequence` module, which is documented [here](https://www.tensorflow.org/api_docs/python/tf/keras/preprocessing/sequence/pad_sequences).\n",
    "3. Use the model to predict the next token in the sequence. Remember that the model will output a probability distribution over the vocabulary, so you'll need to use `np.argmax` to find the token with the highest probability.\n",
    "4. Add the predicted token to the sequence and remove the first token.\n",
    "5. Repeat steps 3-4 until you have generated the desired number of tokens.\n",
    "6. Convert the generated token IDs back to words and return the combined result as a single string.\n",
    "\n",
    "This is a challenging task, so don't hesitate to ask for help if you need it. It's okay if the generated text doesn't make much sense yet - we'll work on improving the model next.\n",
    "As a bonus, you can make your method generate \"gpt-style\" by having it print out each word as it's generated, so you can see the text being generated in real time."
   ]
  },
  {
   "cell_type": "code",
   "execution_count": 237,
   "id": "544ad378",
   "metadata": {},
   "outputs": [
    {
     "data": {
      "text/plain": [
       "1049"
      ]
     },
     "execution_count": 237,
     "metadata": {},
     "output_type": "execute_result"
    }
   ],
   "source": [
    "seed_text = 'Hello. How are you?' \n",
    "seed_text=[seed_text.lower()]\n",
    "gen_equences = tokenizer.word_index( seed_text )\n",
    "gen_equences = pad_sequences()( gen_equences, SEQ_LENGTH )\n",
    "pred_token_ind = get_predicted_word( model, gen_equences )\n",
    "pred_token_ind"
   ]
  },
  {
   "cell_type": "code",
   "execution_count": 279,
   "id": "ea8d341c",
   "metadata": {},
   "outputs": [
    {
     "data": {
      "text/plain": [
       "'hello. how are you? pred_word'"
      ]
     },
     "execution_count": 279,
     "metadata": {},
     "output_type": "execute_result"
    }
   ],
   "source": [
    "seed_text = 'Hello. How are you?' \n",
    "seed_text = [seed_text.lower()]\n",
    "\n",
    "seed_text=seed_text[0] + ' pred_word'\n",
    "seed_text"
   ]
  },
  {
   "cell_type": "code",
   "execution_count": 240,
   "id": "c16dce7a",
   "metadata": {},
   "outputs": [
    {
     "name": "stdout",
     "output_type": "stream",
     "text": [
      "text text \n"
     ]
    }
   ],
   "source": [
    "print(\"text \", end=\"\")\n",
    "print(\"text \")"
   ]
  },
  {
   "cell_type": "code",
   "execution_count": 299,
   "id": "d73dbf278a1265ef",
   "metadata": {
    "collapsed": false
   },
   "outputs": [],
   "source": [
    "from tensorflow.keras.preprocessing.sequence import pad_sequences\n",
    "\n",
    "def get_predicted_word(model, sequence):\n",
    "    \"\"\"\n",
    "    Get the predicted word from the model.\n",
    "    This helper function uses a concept we haven't covered in class yet: temperature.\n",
    "    In essence, a little bit of randomness in what word we predict can make the text more interesting.\n",
    "    \"\"\"\n",
    "\n",
    "    # Use the model to predict the next token in the sequence\n",
    "    yhat = model.predict(sequence, verbose=0)\n",
    "\n",
    "    # Get the index of the predicted word, according to the probabilities\n",
    "    yhat = np.random.choice(range(VOCAB_SIZE), p=yhat.ravel())\n",
    "\n",
    "    return yhat\n",
    "\n",
    "def generate_text(model, tokenizer, seed_text, max_sequence_len, max_generation=10):\n",
    "    \"\"\"\n",
    "    Generate new text using the trained model.\n",
    "    You can use the `get_predicted_word` helper function to help you with this.\n",
    "    \"\"\"\n",
    "    try:\n",
    "        print( \"Generated text: \" )    \n",
    "        if seed_text.count(' ') < 3 or len(seed_text)<10:\n",
    "            print(\"To short input. Increase words number.\")\n",
    "        else:   \n",
    "            print( seed_text, end=\"\")\n",
    "            seed_text = [seed_text.lower()]\n",
    "            gen_sequences = tokenizer.texts_to_sequences( seed_text )\n",
    "            gen_sequences = pad_sequences( gen_sequences, max_sequence_len )\n",
    "            pred_token_ind = get_predicted_word( model, gen_sequences ) \n",
    "            pred_word = tokenizer.index_word[pred_token_ind]   \n",
    "            print( f\" {pred_word}\", end=\"\")\n",
    "\n",
    "            gen_item = 0\n",
    "            for gen in range(max_generation):           \n",
    "                seed_text = [seed_text[0] + \" \" + pred_word]\n",
    "                gen_sequences = tokenizer.texts_to_sequences( seed_text )\n",
    "                gen_sequences = pad_sequences( gen_sequences, max_sequence_len )\n",
    "                pred_token_ind = get_predicted_word( model, gen_sequences ) \n",
    "                pred_word = tokenizer.index_word[pred_token_ind]   \n",
    "                print( f\" {pred_word}\", end=\"\")     \n",
    "                gen_item+=1\n",
    "    except:\n",
    "        print(f\"\\nsomething wen't wrong ;( We reached {gen_item} generations.\")\n",
    "    \n",
    "            \n",
    "    return None\n"
   ]
  },
  {
   "cell_type": "code",
   "execution_count": 303,
   "id": "f463b0c3df49e2c",
   "metadata": {
    "collapsed": false
   },
   "outputs": [
    {
     "name": "stdout",
     "output_type": "stream",
     "text": [
      "Generated text: \n",
      "As often as the driver rested them and brought them to a stand laths fact twinkled reasoned vaguely obtruded ‘from attempted physically apprentices corner “yaha distiller’s christian actors 'it's sunny curtain thrusting substituted assemblages ‘cos conversed inquiry harbouring proverb ‘“lovely pressing list qualify happiest writhed soap ramsey innermost would\n",
      "something wen't wrong ;( We reached 35 generations.\n"
     ]
    }
   ],
   "source": [
    "# Test the text generation function\n",
    "text = 'As often as the driver rested them and brought them to a stand'\n",
    "MAX_GENERATION = 50\n",
    "generate_text(model, tokenizer, text, SEQ_LENGTH, MAX_GENERATION)"
   ]
  },
  {
   "cell_type": "markdown",
   "id": "5871d836a0135c41",
   "metadata": {
    "collapsed": false
   },
   "source": [
    "It's likely that the text generated by your model doesn't make much sense yet. This is because the model hasn't been trained for very long, and the training dataset is relatively small. \n",
    "\n",
    "# 4. Model Refinement (Complete or Incomplete)\n",
    "\n",
    "In this last section, you'll work on improving your model. There are many ways to do this, but here are a few ideas to get you started:\n",
    "\n",
    "* Use pre-trained embeddings: the code below will help you to load pre-trained embeddings through Keras. \n",
    "* Experiment with different model architectures, including the number of layers, the number of units in each layer, and the use of dropout layers.\n",
    "* Train your model for longer. You can also experiment with different batch sizes.\n",
    "\n",
    "Implement and test out at least one of these ideas. If you have other ideas for improving the model, feel free to try them out as well."
   ]
  },
  {
   "cell_type": "code",
   "execution_count": 314,
   "id": "dda8b0f845c20862",
   "metadata": {
    "collapsed": false
   },
   "outputs": [],
   "source": [
    "#!wget https://downloads.cs.stanford.edu/nlp/data/glove.6B.zip\n",
    "#!unzip glove.6B.zip\n",
    "\n",
    "import zipfile\n",
    "import os\n",
    "\n",
    "zip_file_path = 'glove.6B.zip'\n",
    "extract_to = os.curdir\n",
    "with zipfile.ZipFile(zip_file_path, 'r') as zip_ref:\n",
    "    zip_ref.extractall(extract_to)"
   ]
  },
  {
   "cell_type": "code",
   "execution_count": 310,
   "id": "e8b777220505635",
   "metadata": {
    "collapsed": false
   },
   "outputs": [
    {
     "name": "stdout",
     "output_type": "stream",
     "text": [
      "Found 400000 word vectors.\n"
     ]
    }
   ],
   "source": [
    "# Load the pre-trained embeddings\n",
    "embeddings_index = {}\n",
    "try:\n",
    "    with open('glove.6B.100d.txt', encoding='utf-8') as f:\n",
    "        for line in f:\n",
    "            values = line.split()\n",
    "            word = values[0]\n",
    "            coefs = np.asarray(values[1:], dtype='float32')\n",
    "            embeddings_index[word] = coefs\n",
    "    print(f'Found {len(embeddings_index)} word vectors.')\n",
    "except FileNotFoundError:\n",
    "    print(\"'glove.6B.100d.txt' File not found. Please make sure you have ran the previous cell.\")"
   ]
  },
  {
   "cell_type": "code",
   "execution_count": 317,
   "id": "d3e48ff004757cf2",
   "metadata": {
    "collapsed": false
   },
   "outputs": [],
   "source": [
    "# Check if VOCAB_SIZE is set\n",
    "VOCAB_SIZE = 30000\n",
    "if VOCAB_SIZE is None:\n",
    "    print(\"You need to complete the previous parts of your assignment in order for this to work.\")\n",
    "else:\n",
    "    # Create an embedding matrix\n",
    "    embedding_matrix = np.zeros((VOCAB_SIZE, 100))\n",
    "    for word, i in tokenizer.word_index.items():\n",
    "        if i < VOCAB_SIZE:\n",
    "            embedding_vector = embeddings_index.get(word)\n",
    "            if embedding_vector is not None:\n",
    "                embedding_matrix[i] = embedding_vector"
   ]
  },
  {
   "cell_type": "code",
   "execution_count": 318,
   "id": "e3d21d5dbbbcf9f9",
   "metadata": {
    "collapsed": false
   },
   "outputs": [],
   "source": [
    "# Check if VOCAB_SIZE is set\n",
    "if VOCAB_SIZE is None:\n",
    "    print(\"You need to complete the previous parts of your assignment in order for this to work.\")\n",
    "else:\n",
    "    embedding_layer = Embedding(\n",
    "        VOCAB_SIZE, 100, weights=[embedding_matrix], input_length=SEQ_LENGTH, trainable=False\n",
    "    )"
   ]
  },
  {
   "cell_type": "code",
   "execution_count": 319,
   "id": "27c44252",
   "metadata": {},
   "outputs": [
    {
     "data": {
      "text/plain": [
       "(30000, 100)"
      ]
     },
     "execution_count": 319,
     "metadata": {},
     "output_type": "execute_result"
    }
   ],
   "source": [
    "embedding_matrix.shape"
   ]
  },
  {
   "cell_type": "code",
   "execution_count": 19,
   "id": "236cb723e4e5b3fc",
   "metadata": {
    "collapsed": false
   },
   "outputs": [],
   "source": [
    "# Define a new model and train it\n",
    "\n"
   ]
  },
  {
   "cell_type": "markdown",
   "id": "742095fb",
   "metadata": {},
   "source": [
    "## Criteria\n",
    "\n",
    "|Criteria|Complete|Incomplete|\n",
    "|----|----|----|\n",
    "|Task 1|The task has been completed successfully and there are no errors.|The task is still incomplete and there is at least one error.|\n",
    "|Task 2|The task has been completed successfully and there are no errors.|The task is still incomplete and there is at least one error.|\n",
    "|Task 3|The task has been completed successfully and there are no errors.|The task is still incomplete and there is at least one error.|\n",
    "|Task 4|The task has been completed successfully and there are no errors.|The task is still incomplete and there is at least one error.|"
   ]
  },
  {
   "cell_type": "markdown",
   "id": "1990e2d2",
   "metadata": {},
   "source": [
    "## Submission Information\n",
    "\n",
    "🚨**Please review our [Assignment Submission Guide](https://github.com/UofT-DSI/onboarding/blob/main/onboarding_documents/submissions.md)**🚨 for detailed instructions on how to format, branch, and submit your work. Following these guidelines is crucial for your submissions to be evaluated correctly.\n",
    "\n",
    "### Submission Parameters:\n",
    "* Submission Due Date: `HH:MM AM/PM - DD/MM/YYYY`\n",
    "* The branch name for your repo should be: `assignment-2`\n",
    "* What to submit for this assignment:\n",
    "    * This Jupyter Notebook (assignment_2.ipynb) should be populated and should be the only change in your pull request.\n",
    "* What the pull request link should look like for this assignment: `https://github.com/<your_github_username>/deep_learning/pull/<pr_id>`\n",
    "    * Open a private window in your browser. Copy and paste the link to your pull request into the address bar. Make sure you can see your pull request properly. This helps the technical facilitator and learning support staff review your submission easily.\n",
    "\n",
    "Checklist:\n",
    "- [ ] Created a branch with the correct naming convention.\n",
    "- [ ] Ensured that the repository is public.\n",
    "- [ ] Reviewed the PR description guidelines and adhered to them.\n",
    "- [ ] Verify that the link is accessible in a private browser window.\n",
    "\n",
    "If you encounter any difficulties or have questions, please don't hesitate to reach out to our team via our Slack at `#cohort-3-help`. Our Technical Facilitators and Learning Support staff are here to help you navigate any challenges."
   ]
  }
 ],
 "metadata": {
  "accelerator": "GPU",
  "colab": {
   "gpuType": "T4",
   "provenance": []
  },
  "kernelspec": {
   "display_name": "Python 3 (ipykernel)",
   "language": "python",
   "name": "python3"
  },
  "language_info": {
   "codemirror_mode": {
    "name": "ipython",
    "version": 3
   },
   "file_extension": ".py",
   "mimetype": "text/x-python",
   "name": "python",
   "nbconvert_exporter": "python",
   "pygments_lexer": "ipython3",
   "version": "3.9.15"
  }
 },
 "nbformat": 4,
 "nbformat_minor": 5
}
